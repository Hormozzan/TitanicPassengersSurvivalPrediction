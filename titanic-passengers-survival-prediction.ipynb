{
 "cells": [
  {
   "cell_type": "markdown",
   "id": "f513ffb3",
   "metadata": {
    "_cell_guid": "9bc352cd-78ec-4a2d-971d-72014172a04e",
    "_uuid": "d9a3c294-bcbd-48b8-965d-ac5fd950b386",
    "jupyter": {
     "outputs_hidden": false
    },
    "papermill": {
     "duration": 0.012346,
     "end_time": "2022-07-08T15:11:59.604043",
     "exception": false,
     "start_time": "2022-07-08T15:11:59.591697",
     "status": "completed"
    },
    "tags": []
   },
   "source": [
    "# Import Packages"
   ]
  },
  {
   "cell_type": "code",
   "execution_count": 1,
   "id": "f7ea228f",
   "metadata": {
    "_cell_guid": "7ac168ae-7bd7-47d9-9a36-d2b57cd9fcab",
    "_uuid": "2f4b9304-ad97-4c71-bb94-65763103b966",
    "collapsed": false,
    "execution": {
     "iopub.execute_input": "2022-07-08T15:11:59.628947Z",
     "iopub.status.busy": "2022-07-08T15:11:59.628293Z",
     "iopub.status.idle": "2022-07-08T15:12:01.426834Z",
     "shell.execute_reply": "2022-07-08T15:12:01.425620Z"
    },
    "jupyter": {
     "outputs_hidden": false
    },
    "papermill": {
     "duration": 1.814238,
     "end_time": "2022-07-08T15:12:01.429811",
     "exception": false,
     "start_time": "2022-07-08T15:11:59.615573",
     "status": "completed"
    },
    "tags": []
   },
   "outputs": [],
   "source": [
    "# Data Analysis\n",
    "import numpy as np\n",
    "import pandas as pd\n",
    "import random as rn\n",
    "from sklearn.feature_selection import mutual_info_classif\n",
    "\n",
    "# Data Visualization\n",
    "import seaborn as sns\n",
    "import matplotlib.pyplot as plt\n",
    "%matplotlib inline\n",
    "\n",
    "# Preprocessing\n",
    "from sklearn.preprocessing import OneHotEncoder\n",
    "from sklearn.impute import SimpleImputer, KNNImputer\n",
    "\n",
    "# Machine Learning Models\n",
    "from sklearn.linear_model import LogisticRegression, SGDClassifier, Perceptron\n",
    "from sklearn.svm import SVC, LinearSVC\n",
    "from sklearn.ensemble import RandomForestClassifier, AdaBoostClassifier, GradientBoostingClassifier\n",
    "from sklearn.neighbors import KNeighborsClassifier\n",
    "from sklearn.naive_bayes import BernoulliNB, ComplementNB, GaussianNB, CategoricalNB, MultinomialNB\n",
    "from sklearn.tree import DecisionTreeClassifier\n",
    "from xgboost import XGBClassifier\n",
    "\n",
    "# Evaluation\n",
    "from sklearn.metrics import precision_score, recall_score, f1_score"
   ]
  },
  {
   "cell_type": "markdown",
   "id": "c38582f9",
   "metadata": {
    "papermill": {
     "duration": 0.011376,
     "end_time": "2022-07-08T15:12:01.453750",
     "exception": false,
     "start_time": "2022-07-08T15:12:01.442374",
     "status": "completed"
    },
    "tags": []
   },
   "source": [
    "# Options"
   ]
  },
  {
   "cell_type": "code",
   "execution_count": 2,
   "id": "d19eb62d",
   "metadata": {
    "execution": {
     "iopub.execute_input": "2022-07-08T15:12:01.479192Z",
     "iopub.status.busy": "2022-07-08T15:12:01.478169Z",
     "iopub.status.idle": "2022-07-08T15:12:01.485658Z",
     "shell.execute_reply": "2022-07-08T15:12:01.484671Z"
    },
    "papermill": {
     "duration": 0.022986,
     "end_time": "2022-07-08T15:12:01.488126",
     "exception": false,
     "start_time": "2022-07-08T15:12:01.465140",
     "status": "completed"
    },
    "tags": []
   },
   "outputs": [],
   "source": [
    "pd.set_option('display.max_rows', 100)\n",
    "pd.set_option('display.max_columns', 50)\n",
    "pd.set_option('display.width', 1000)\n",
    "\n",
    "sns.set(rc={'figure.figsize':(16,10)})\n",
    "sns.set_style(\"white\")"
   ]
  },
  {
   "cell_type": "markdown",
   "id": "c36d4c89",
   "metadata": {
    "papermill": {
     "duration": 0.01046,
     "end_time": "2022-07-08T15:12:01.509447",
     "exception": false,
     "start_time": "2022-07-08T15:12:01.498987",
     "status": "completed"
    },
    "tags": []
   },
   "source": [
    "# Acquiring Data"
   ]
  },
  {
   "cell_type": "code",
   "execution_count": 3,
   "id": "10e9e489",
   "metadata": {
    "execution": {
     "iopub.execute_input": "2022-07-08T15:12:01.534161Z",
     "iopub.status.busy": "2022-07-08T15:12:01.533258Z",
     "iopub.status.idle": "2022-07-08T15:12:01.567037Z",
     "shell.execute_reply": "2022-07-08T15:12:01.565908Z"
    },
    "papermill": {
     "duration": 0.049003,
     "end_time": "2022-07-08T15:12:01.569541",
     "exception": false,
     "start_time": "2022-07-08T15:12:01.520538",
     "status": "completed"
    },
    "tags": []
   },
   "outputs": [],
   "source": [
    "train_df = pd.read_csv('../input/titanic/train.csv')\n",
    "test_df = pd.read_csv('../input/titanic/test.csv')"
   ]
  },
  {
   "cell_type": "markdown",
   "id": "3b305ce7",
   "metadata": {
    "papermill": {
     "duration": 0.01065,
     "end_time": "2022-07-08T15:12:01.591529",
     "exception": false,
     "start_time": "2022-07-08T15:12:01.580879",
     "status": "completed"
    },
    "tags": []
   },
   "source": [
    "# Analysis"
   ]
  },
  {
   "cell_type": "code",
   "execution_count": 4,
   "id": "fc79c261",
   "metadata": {
    "execution": {
     "iopub.execute_input": "2022-07-08T15:12:01.615870Z",
     "iopub.status.busy": "2022-07-08T15:12:01.614709Z",
     "iopub.status.idle": "2022-07-08T15:12:01.621454Z",
     "shell.execute_reply": "2022-07-08T15:12:01.620228Z"
    },
    "papermill": {
     "duration": 0.021631,
     "end_time": "2022-07-08T15:12:01.623991",
     "exception": false,
     "start_time": "2022-07-08T15:12:01.602360",
     "status": "completed"
    },
    "tags": []
   },
   "outputs": [
    {
     "name": "stdout",
     "output_type": "stream",
     "text": [
      "['PassengerId' 'Survived' 'Pclass' 'Name' 'Sex' 'Age' 'SibSp' 'Parch'\n",
      " 'Ticket' 'Fare' 'Cabin' 'Embarked']\n"
     ]
    }
   ],
   "source": [
    "print(train_df.columns.values)"
   ]
  },
  {
   "cell_type": "code",
   "execution_count": 5,
   "id": "6264787c",
   "metadata": {
    "execution": {
     "iopub.execute_input": "2022-07-08T15:12:01.649190Z",
     "iopub.status.busy": "2022-07-08T15:12:01.648370Z",
     "iopub.status.idle": "2022-07-08T15:12:01.675903Z",
     "shell.execute_reply": "2022-07-08T15:12:01.674886Z"
    },
    "papermill": {
     "duration": 0.042997,
     "end_time": "2022-07-08T15:12:01.677932",
     "exception": false,
     "start_time": "2022-07-08T15:12:01.634935",
     "status": "completed"
    },
    "tags": []
   },
   "outputs": [
    {
     "data": {
      "text/html": [
       "<div>\n",
       "<style scoped>\n",
       "    .dataframe tbody tr th:only-of-type {\n",
       "        vertical-align: middle;\n",
       "    }\n",
       "\n",
       "    .dataframe tbody tr th {\n",
       "        vertical-align: top;\n",
       "    }\n",
       "\n",
       "    .dataframe thead th {\n",
       "        text-align: right;\n",
       "    }\n",
       "</style>\n",
       "<table border=\"1\" class=\"dataframe\">\n",
       "  <thead>\n",
       "    <tr style=\"text-align: right;\">\n",
       "      <th></th>\n",
       "      <th>PassengerId</th>\n",
       "      <th>Survived</th>\n",
       "      <th>Pclass</th>\n",
       "      <th>Name</th>\n",
       "      <th>Sex</th>\n",
       "      <th>Age</th>\n",
       "      <th>SibSp</th>\n",
       "      <th>Parch</th>\n",
       "      <th>Ticket</th>\n",
       "      <th>Fare</th>\n",
       "      <th>Cabin</th>\n",
       "      <th>Embarked</th>\n",
       "    </tr>\n",
       "  </thead>\n",
       "  <tbody>\n",
       "    <tr>\n",
       "      <th>0</th>\n",
       "      <td>1</td>\n",
       "      <td>0</td>\n",
       "      <td>3</td>\n",
       "      <td>Braund, Mr. Owen Harris</td>\n",
       "      <td>male</td>\n",
       "      <td>22.0</td>\n",
       "      <td>1</td>\n",
       "      <td>0</td>\n",
       "      <td>A/5 21171</td>\n",
       "      <td>7.2500</td>\n",
       "      <td>NaN</td>\n",
       "      <td>S</td>\n",
       "    </tr>\n",
       "    <tr>\n",
       "      <th>1</th>\n",
       "      <td>2</td>\n",
       "      <td>1</td>\n",
       "      <td>1</td>\n",
       "      <td>Cumings, Mrs. John Bradley (Florence Briggs Th...</td>\n",
       "      <td>female</td>\n",
       "      <td>38.0</td>\n",
       "      <td>1</td>\n",
       "      <td>0</td>\n",
       "      <td>PC 17599</td>\n",
       "      <td>71.2833</td>\n",
       "      <td>C85</td>\n",
       "      <td>C</td>\n",
       "    </tr>\n",
       "    <tr>\n",
       "      <th>2</th>\n",
       "      <td>3</td>\n",
       "      <td>1</td>\n",
       "      <td>3</td>\n",
       "      <td>Heikkinen, Miss. Laina</td>\n",
       "      <td>female</td>\n",
       "      <td>26.0</td>\n",
       "      <td>0</td>\n",
       "      <td>0</td>\n",
       "      <td>STON/O2. 3101282</td>\n",
       "      <td>7.9250</td>\n",
       "      <td>NaN</td>\n",
       "      <td>S</td>\n",
       "    </tr>\n",
       "    <tr>\n",
       "      <th>3</th>\n",
       "      <td>4</td>\n",
       "      <td>1</td>\n",
       "      <td>1</td>\n",
       "      <td>Futrelle, Mrs. Jacques Heath (Lily May Peel)</td>\n",
       "      <td>female</td>\n",
       "      <td>35.0</td>\n",
       "      <td>1</td>\n",
       "      <td>0</td>\n",
       "      <td>113803</td>\n",
       "      <td>53.1000</td>\n",
       "      <td>C123</td>\n",
       "      <td>S</td>\n",
       "    </tr>\n",
       "    <tr>\n",
       "      <th>4</th>\n",
       "      <td>5</td>\n",
       "      <td>0</td>\n",
       "      <td>3</td>\n",
       "      <td>Allen, Mr. William Henry</td>\n",
       "      <td>male</td>\n",
       "      <td>35.0</td>\n",
       "      <td>0</td>\n",
       "      <td>0</td>\n",
       "      <td>373450</td>\n",
       "      <td>8.0500</td>\n",
       "      <td>NaN</td>\n",
       "      <td>S</td>\n",
       "    </tr>\n",
       "  </tbody>\n",
       "</table>\n",
       "</div>"
      ],
      "text/plain": [
       "   PassengerId  Survived  Pclass                                               Name     Sex   Age  SibSp  Parch            Ticket     Fare Cabin Embarked\n",
       "0            1         0       3                            Braund, Mr. Owen Harris    male  22.0      1      0         A/5 21171   7.2500   NaN        S\n",
       "1            2         1       1  Cumings, Mrs. John Bradley (Florence Briggs Th...  female  38.0      1      0          PC 17599  71.2833   C85        C\n",
       "2            3         1       3                             Heikkinen, Miss. Laina  female  26.0      0      0  STON/O2. 3101282   7.9250   NaN        S\n",
       "3            4         1       1       Futrelle, Mrs. Jacques Heath (Lily May Peel)  female  35.0      1      0            113803  53.1000  C123        S\n",
       "4            5         0       3                           Allen, Mr. William Henry    male  35.0      0      0            373450   8.0500   NaN        S"
      ]
     },
     "execution_count": 5,
     "metadata": {},
     "output_type": "execute_result"
    }
   ],
   "source": [
    "train_df.head()"
   ]
  },
  {
   "cell_type": "code",
   "execution_count": 6,
   "id": "1fc9e020",
   "metadata": {
    "execution": {
     "iopub.execute_input": "2022-07-08T15:12:01.703359Z",
     "iopub.status.busy": "2022-07-08T15:12:01.702415Z",
     "iopub.status.idle": "2022-07-08T15:12:01.739135Z",
     "shell.execute_reply": "2022-07-08T15:12:01.736641Z"
    },
    "papermill": {
     "duration": 0.052918,
     "end_time": "2022-07-08T15:12:01.742018",
     "exception": false,
     "start_time": "2022-07-08T15:12:01.689100",
     "status": "completed"
    },
    "tags": []
   },
   "outputs": [
    {
     "name": "stdout",
     "output_type": "stream",
     "text": [
      "<class 'pandas.core.frame.DataFrame'>\n",
      "RangeIndex: 891 entries, 0 to 890\n",
      "Data columns (total 12 columns):\n",
      " #   Column       Non-Null Count  Dtype  \n",
      "---  ------       --------------  -----  \n",
      " 0   PassengerId  891 non-null    int64  \n",
      " 1   Survived     891 non-null    int64  \n",
      " 2   Pclass       891 non-null    int64  \n",
      " 3   Name         891 non-null    object \n",
      " 4   Sex          891 non-null    object \n",
      " 5   Age          714 non-null    float64\n",
      " 6   SibSp        891 non-null    int64  \n",
      " 7   Parch        891 non-null    int64  \n",
      " 8   Ticket       891 non-null    object \n",
      " 9   Fare         891 non-null    float64\n",
      " 10  Cabin        204 non-null    object \n",
      " 11  Embarked     889 non-null    object \n",
      "dtypes: float64(2), int64(5), object(5)\n",
      "memory usage: 83.7+ KB\n",
      "--------------------------------------------------\n",
      "<class 'pandas.core.frame.DataFrame'>\n",
      "RangeIndex: 418 entries, 0 to 417\n",
      "Data columns (total 11 columns):\n",
      " #   Column       Non-Null Count  Dtype  \n",
      "---  ------       --------------  -----  \n",
      " 0   PassengerId  418 non-null    int64  \n",
      " 1   Pclass       418 non-null    int64  \n",
      " 2   Name         418 non-null    object \n",
      " 3   Sex          418 non-null    object \n",
      " 4   Age          332 non-null    float64\n",
      " 5   SibSp        418 non-null    int64  \n",
      " 6   Parch        418 non-null    int64  \n",
      " 7   Ticket       418 non-null    object \n",
      " 8   Fare         417 non-null    float64\n",
      " 9   Cabin        91 non-null     object \n",
      " 10  Embarked     418 non-null    object \n",
      "dtypes: float64(2), int64(4), object(5)\n",
      "memory usage: 36.0+ KB\n"
     ]
    }
   ],
   "source": [
    "train_df.info()\n",
    "print('-' * 50)\n",
    "test_df.info()"
   ]
  },
  {
   "cell_type": "code",
   "execution_count": 7,
   "id": "b1e8fbaf",
   "metadata": {
    "execution": {
     "iopub.execute_input": "2022-07-08T15:12:01.766926Z",
     "iopub.status.busy": "2022-07-08T15:12:01.766351Z",
     "iopub.status.idle": "2022-07-08T15:12:01.812350Z",
     "shell.execute_reply": "2022-07-08T15:12:01.811188Z"
    },
    "papermill": {
     "duration": 0.061529,
     "end_time": "2022-07-08T15:12:01.814752",
     "exception": false,
     "start_time": "2022-07-08T15:12:01.753223",
     "status": "completed"
    },
    "tags": []
   },
   "outputs": [
    {
     "data": {
      "text/html": [
       "<div>\n",
       "<style scoped>\n",
       "    .dataframe tbody tr th:only-of-type {\n",
       "        vertical-align: middle;\n",
       "    }\n",
       "\n",
       "    .dataframe tbody tr th {\n",
       "        vertical-align: top;\n",
       "    }\n",
       "\n",
       "    .dataframe thead th {\n",
       "        text-align: right;\n",
       "    }\n",
       "</style>\n",
       "<table border=\"1\" class=\"dataframe\">\n",
       "  <thead>\n",
       "    <tr style=\"text-align: right;\">\n",
       "      <th></th>\n",
       "      <th>PassengerId</th>\n",
       "      <th>Survived</th>\n",
       "      <th>Pclass</th>\n",
       "      <th>Age</th>\n",
       "      <th>SibSp</th>\n",
       "      <th>Parch</th>\n",
       "      <th>Fare</th>\n",
       "    </tr>\n",
       "  </thead>\n",
       "  <tbody>\n",
       "    <tr>\n",
       "      <th>count</th>\n",
       "      <td>891.000000</td>\n",
       "      <td>891.000000</td>\n",
       "      <td>891.000000</td>\n",
       "      <td>714.000000</td>\n",
       "      <td>891.000000</td>\n",
       "      <td>891.000000</td>\n",
       "      <td>891.000000</td>\n",
       "    </tr>\n",
       "    <tr>\n",
       "      <th>mean</th>\n",
       "      <td>446.000000</td>\n",
       "      <td>0.383838</td>\n",
       "      <td>2.308642</td>\n",
       "      <td>29.699118</td>\n",
       "      <td>0.523008</td>\n",
       "      <td>0.381594</td>\n",
       "      <td>32.204208</td>\n",
       "    </tr>\n",
       "    <tr>\n",
       "      <th>std</th>\n",
       "      <td>257.353842</td>\n",
       "      <td>0.486592</td>\n",
       "      <td>0.836071</td>\n",
       "      <td>14.526497</td>\n",
       "      <td>1.102743</td>\n",
       "      <td>0.806057</td>\n",
       "      <td>49.693429</td>\n",
       "    </tr>\n",
       "    <tr>\n",
       "      <th>min</th>\n",
       "      <td>1.000000</td>\n",
       "      <td>0.000000</td>\n",
       "      <td>1.000000</td>\n",
       "      <td>0.420000</td>\n",
       "      <td>0.000000</td>\n",
       "      <td>0.000000</td>\n",
       "      <td>0.000000</td>\n",
       "    </tr>\n",
       "    <tr>\n",
       "      <th>0%</th>\n",
       "      <td>1.000000</td>\n",
       "      <td>0.000000</td>\n",
       "      <td>1.000000</td>\n",
       "      <td>0.420000</td>\n",
       "      <td>0.000000</td>\n",
       "      <td>0.000000</td>\n",
       "      <td>0.000000</td>\n",
       "    </tr>\n",
       "    <tr>\n",
       "      <th>5%</th>\n",
       "      <td>45.500000</td>\n",
       "      <td>0.000000</td>\n",
       "      <td>1.000000</td>\n",
       "      <td>4.000000</td>\n",
       "      <td>0.000000</td>\n",
       "      <td>0.000000</td>\n",
       "      <td>7.225000</td>\n",
       "    </tr>\n",
       "    <tr>\n",
       "      <th>10%</th>\n",
       "      <td>90.000000</td>\n",
       "      <td>0.000000</td>\n",
       "      <td>1.000000</td>\n",
       "      <td>14.000000</td>\n",
       "      <td>0.000000</td>\n",
       "      <td>0.000000</td>\n",
       "      <td>7.550000</td>\n",
       "    </tr>\n",
       "    <tr>\n",
       "      <th>15%</th>\n",
       "      <td>134.500000</td>\n",
       "      <td>0.000000</td>\n",
       "      <td>1.000000</td>\n",
       "      <td>17.000000</td>\n",
       "      <td>0.000000</td>\n",
       "      <td>0.000000</td>\n",
       "      <td>7.750000</td>\n",
       "    </tr>\n",
       "    <tr>\n",
       "      <th>20%</th>\n",
       "      <td>179.000000</td>\n",
       "      <td>0.000000</td>\n",
       "      <td>1.000000</td>\n",
       "      <td>19.000000</td>\n",
       "      <td>0.000000</td>\n",
       "      <td>0.000000</td>\n",
       "      <td>7.854200</td>\n",
       "    </tr>\n",
       "    <tr>\n",
       "      <th>25%</th>\n",
       "      <td>223.500000</td>\n",
       "      <td>0.000000</td>\n",
       "      <td>2.000000</td>\n",
       "      <td>20.125000</td>\n",
       "      <td>0.000000</td>\n",
       "      <td>0.000000</td>\n",
       "      <td>7.910400</td>\n",
       "    </tr>\n",
       "    <tr>\n",
       "      <th>30%</th>\n",
       "      <td>268.000000</td>\n",
       "      <td>0.000000</td>\n",
       "      <td>2.000000</td>\n",
       "      <td>22.000000</td>\n",
       "      <td>0.000000</td>\n",
       "      <td>0.000000</td>\n",
       "      <td>8.050000</td>\n",
       "    </tr>\n",
       "    <tr>\n",
       "      <th>35%</th>\n",
       "      <td>312.500000</td>\n",
       "      <td>0.000000</td>\n",
       "      <td>2.000000</td>\n",
       "      <td>24.000000</td>\n",
       "      <td>0.000000</td>\n",
       "      <td>0.000000</td>\n",
       "      <td>9.000000</td>\n",
       "    </tr>\n",
       "    <tr>\n",
       "      <th>40%</th>\n",
       "      <td>357.000000</td>\n",
       "      <td>0.000000</td>\n",
       "      <td>2.000000</td>\n",
       "      <td>25.000000</td>\n",
       "      <td>0.000000</td>\n",
       "      <td>0.000000</td>\n",
       "      <td>10.500000</td>\n",
       "    </tr>\n",
       "    <tr>\n",
       "      <th>45%</th>\n",
       "      <td>401.500000</td>\n",
       "      <td>0.000000</td>\n",
       "      <td>3.000000</td>\n",
       "      <td>27.000000</td>\n",
       "      <td>0.000000</td>\n",
       "      <td>0.000000</td>\n",
       "      <td>13.000000</td>\n",
       "    </tr>\n",
       "    <tr>\n",
       "      <th>50%</th>\n",
       "      <td>446.000000</td>\n",
       "      <td>0.000000</td>\n",
       "      <td>3.000000</td>\n",
       "      <td>28.000000</td>\n",
       "      <td>0.000000</td>\n",
       "      <td>0.000000</td>\n",
       "      <td>14.454200</td>\n",
       "    </tr>\n",
       "    <tr>\n",
       "      <th>55%</th>\n",
       "      <td>490.500000</td>\n",
       "      <td>0.000000</td>\n",
       "      <td>3.000000</td>\n",
       "      <td>30.000000</td>\n",
       "      <td>0.000000</td>\n",
       "      <td>0.000000</td>\n",
       "      <td>16.100000</td>\n",
       "    </tr>\n",
       "    <tr>\n",
       "      <th>60%</th>\n",
       "      <td>535.000000</td>\n",
       "      <td>0.000000</td>\n",
       "      <td>3.000000</td>\n",
       "      <td>31.800000</td>\n",
       "      <td>0.000000</td>\n",
       "      <td>0.000000</td>\n",
       "      <td>21.679200</td>\n",
       "    </tr>\n",
       "    <tr>\n",
       "      <th>65%</th>\n",
       "      <td>579.500000</td>\n",
       "      <td>1.000000</td>\n",
       "      <td>3.000000</td>\n",
       "      <td>34.000000</td>\n",
       "      <td>0.000000</td>\n",
       "      <td>0.000000</td>\n",
       "      <td>26.000000</td>\n",
       "    </tr>\n",
       "    <tr>\n",
       "      <th>70%</th>\n",
       "      <td>624.000000</td>\n",
       "      <td>1.000000</td>\n",
       "      <td>3.000000</td>\n",
       "      <td>36.000000</td>\n",
       "      <td>1.000000</td>\n",
       "      <td>0.000000</td>\n",
       "      <td>27.000000</td>\n",
       "    </tr>\n",
       "    <tr>\n",
       "      <th>75%</th>\n",
       "      <td>668.500000</td>\n",
       "      <td>1.000000</td>\n",
       "      <td>3.000000</td>\n",
       "      <td>38.000000</td>\n",
       "      <td>1.000000</td>\n",
       "      <td>0.000000</td>\n",
       "      <td>31.000000</td>\n",
       "    </tr>\n",
       "    <tr>\n",
       "      <th>80%</th>\n",
       "      <td>713.000000</td>\n",
       "      <td>1.000000</td>\n",
       "      <td>3.000000</td>\n",
       "      <td>41.000000</td>\n",
       "      <td>1.000000</td>\n",
       "      <td>1.000000</td>\n",
       "      <td>39.687500</td>\n",
       "    </tr>\n",
       "    <tr>\n",
       "      <th>85%</th>\n",
       "      <td>757.500000</td>\n",
       "      <td>1.000000</td>\n",
       "      <td>3.000000</td>\n",
       "      <td>45.000000</td>\n",
       "      <td>1.000000</td>\n",
       "      <td>1.000000</td>\n",
       "      <td>56.495800</td>\n",
       "    </tr>\n",
       "    <tr>\n",
       "      <th>90%</th>\n",
       "      <td>802.000000</td>\n",
       "      <td>1.000000</td>\n",
       "      <td>3.000000</td>\n",
       "      <td>50.000000</td>\n",
       "      <td>1.000000</td>\n",
       "      <td>2.000000</td>\n",
       "      <td>77.958300</td>\n",
       "    </tr>\n",
       "    <tr>\n",
       "      <th>95%</th>\n",
       "      <td>846.500000</td>\n",
       "      <td>1.000000</td>\n",
       "      <td>3.000000</td>\n",
       "      <td>56.000000</td>\n",
       "      <td>3.000000</td>\n",
       "      <td>2.000000</td>\n",
       "      <td>112.079150</td>\n",
       "    </tr>\n",
       "    <tr>\n",
       "      <th>max</th>\n",
       "      <td>891.000000</td>\n",
       "      <td>1.000000</td>\n",
       "      <td>3.000000</td>\n",
       "      <td>80.000000</td>\n",
       "      <td>8.000000</td>\n",
       "      <td>6.000000</td>\n",
       "      <td>512.329200</td>\n",
       "    </tr>\n",
       "  </tbody>\n",
       "</table>\n",
       "</div>"
      ],
      "text/plain": [
       "       PassengerId    Survived      Pclass         Age       SibSp       Parch        Fare\n",
       "count   891.000000  891.000000  891.000000  714.000000  891.000000  891.000000  891.000000\n",
       "mean    446.000000    0.383838    2.308642   29.699118    0.523008    0.381594   32.204208\n",
       "std     257.353842    0.486592    0.836071   14.526497    1.102743    0.806057   49.693429\n",
       "min       1.000000    0.000000    1.000000    0.420000    0.000000    0.000000    0.000000\n",
       "0%        1.000000    0.000000    1.000000    0.420000    0.000000    0.000000    0.000000\n",
       "5%       45.500000    0.000000    1.000000    4.000000    0.000000    0.000000    7.225000\n",
       "10%      90.000000    0.000000    1.000000   14.000000    0.000000    0.000000    7.550000\n",
       "15%     134.500000    0.000000    1.000000   17.000000    0.000000    0.000000    7.750000\n",
       "20%     179.000000    0.000000    1.000000   19.000000    0.000000    0.000000    7.854200\n",
       "25%     223.500000    0.000000    2.000000   20.125000    0.000000    0.000000    7.910400\n",
       "30%     268.000000    0.000000    2.000000   22.000000    0.000000    0.000000    8.050000\n",
       "35%     312.500000    0.000000    2.000000   24.000000    0.000000    0.000000    9.000000\n",
       "40%     357.000000    0.000000    2.000000   25.000000    0.000000    0.000000   10.500000\n",
       "45%     401.500000    0.000000    3.000000   27.000000    0.000000    0.000000   13.000000\n",
       "50%     446.000000    0.000000    3.000000   28.000000    0.000000    0.000000   14.454200\n",
       "55%     490.500000    0.000000    3.000000   30.000000    0.000000    0.000000   16.100000\n",
       "60%     535.000000    0.000000    3.000000   31.800000    0.000000    0.000000   21.679200\n",
       "65%     579.500000    1.000000    3.000000   34.000000    0.000000    0.000000   26.000000\n",
       "70%     624.000000    1.000000    3.000000   36.000000    1.000000    0.000000   27.000000\n",
       "75%     668.500000    1.000000    3.000000   38.000000    1.000000    0.000000   31.000000\n",
       "80%     713.000000    1.000000    3.000000   41.000000    1.000000    1.000000   39.687500\n",
       "85%     757.500000    1.000000    3.000000   45.000000    1.000000    1.000000   56.495800\n",
       "90%     802.000000    1.000000    3.000000   50.000000    1.000000    2.000000   77.958300\n",
       "95%     846.500000    1.000000    3.000000   56.000000    3.000000    2.000000  112.079150\n",
       "max     891.000000    1.000000    3.000000   80.000000    8.000000    6.000000  512.329200"
      ]
     },
     "execution_count": 7,
     "metadata": {},
     "output_type": "execute_result"
    }
   ],
   "source": [
    "# Numeric Columns\n",
    "percentiles = np.arange(0, 1, 0.05, dtype='float')\n",
    "train_df.describe(list(percentiles.round(2)))"
   ]
  },
  {
   "cell_type": "code",
   "execution_count": 8,
   "id": "d5fb785c",
   "metadata": {
    "execution": {
     "iopub.execute_input": "2022-07-08T15:12:01.840725Z",
     "iopub.status.busy": "2022-07-08T15:12:01.840257Z",
     "iopub.status.idle": "2022-07-08T15:12:01.865183Z",
     "shell.execute_reply": "2022-07-08T15:12:01.863977Z"
    },
    "papermill": {
     "duration": 0.041528,
     "end_time": "2022-07-08T15:12:01.867940",
     "exception": false,
     "start_time": "2022-07-08T15:12:01.826412",
     "status": "completed"
    },
    "tags": []
   },
   "outputs": [
    {
     "data": {
      "text/html": [
       "<div>\n",
       "<style scoped>\n",
       "    .dataframe tbody tr th:only-of-type {\n",
       "        vertical-align: middle;\n",
       "    }\n",
       "\n",
       "    .dataframe tbody tr th {\n",
       "        vertical-align: top;\n",
       "    }\n",
       "\n",
       "    .dataframe thead th {\n",
       "        text-align: right;\n",
       "    }\n",
       "</style>\n",
       "<table border=\"1\" class=\"dataframe\">\n",
       "  <thead>\n",
       "    <tr style=\"text-align: right;\">\n",
       "      <th></th>\n",
       "      <th>Name</th>\n",
       "      <th>Sex</th>\n",
       "      <th>Ticket</th>\n",
       "      <th>Cabin</th>\n",
       "      <th>Embarked</th>\n",
       "    </tr>\n",
       "  </thead>\n",
       "  <tbody>\n",
       "    <tr>\n",
       "      <th>count</th>\n",
       "      <td>891</td>\n",
       "      <td>891</td>\n",
       "      <td>891</td>\n",
       "      <td>204</td>\n",
       "      <td>889</td>\n",
       "    </tr>\n",
       "    <tr>\n",
       "      <th>unique</th>\n",
       "      <td>891</td>\n",
       "      <td>2</td>\n",
       "      <td>681</td>\n",
       "      <td>147</td>\n",
       "      <td>3</td>\n",
       "    </tr>\n",
       "    <tr>\n",
       "      <th>top</th>\n",
       "      <td>Braund, Mr. Owen Harris</td>\n",
       "      <td>male</td>\n",
       "      <td>347082</td>\n",
       "      <td>B96 B98</td>\n",
       "      <td>S</td>\n",
       "    </tr>\n",
       "    <tr>\n",
       "      <th>freq</th>\n",
       "      <td>1</td>\n",
       "      <td>577</td>\n",
       "      <td>7</td>\n",
       "      <td>4</td>\n",
       "      <td>644</td>\n",
       "    </tr>\n",
       "  </tbody>\n",
       "</table>\n",
       "</div>"
      ],
      "text/plain": [
       "                           Name   Sex  Ticket    Cabin Embarked\n",
       "count                       891   891     891      204      889\n",
       "unique                      891     2     681      147        3\n",
       "top     Braund, Mr. Owen Harris  male  347082  B96 B98        S\n",
       "freq                          1   577       7        4      644"
      ]
     },
     "execution_count": 8,
     "metadata": {},
     "output_type": "execute_result"
    }
   ],
   "source": [
    "# Object Columns\n",
    "train_df.describe(include=['O'])"
   ]
  },
  {
   "cell_type": "code",
   "execution_count": 9,
   "id": "195a6a30",
   "metadata": {
    "execution": {
     "iopub.execute_input": "2022-07-08T15:12:01.893896Z",
     "iopub.status.busy": "2022-07-08T15:12:01.893394Z",
     "iopub.status.idle": "2022-07-08T15:12:01.931526Z",
     "shell.execute_reply": "2022-07-08T15:12:01.929741Z"
    },
    "papermill": {
     "duration": 0.054532,
     "end_time": "2022-07-08T15:12:01.934447",
     "exception": false,
     "start_time": "2022-07-08T15:12:01.879915",
     "status": "completed"
    },
    "tags": []
   },
   "outputs": [
    {
     "name": "stdout",
     "output_type": "stream",
     "text": [
      "   Pclass  Survived\n",
      "0       1  0.629630\n",
      "1       2  0.472826\n",
      "2       3  0.242363\n",
      "--------------------------------------------------\n",
      "      Sex  Survived\n",
      "0  female  0.742038\n",
      "1    male  0.188908\n",
      "--------------------------------------------------\n",
      "   SibSp  Survived\n",
      "0      0  0.345395\n",
      "1      1  0.535885\n",
      "2      2  0.464286\n",
      "3      3  0.250000\n",
      "4      4  0.166667\n",
      "5      5  0.000000\n",
      "6      8  0.000000\n",
      "--------------------------------------------------\n",
      "   Parch  Survived\n",
      "0      0  0.343658\n",
      "1      1  0.550847\n",
      "2      2  0.500000\n",
      "3      3  0.600000\n",
      "4      4  0.000000\n",
      "5      5  0.200000\n",
      "6      6  0.000000\n"
     ]
    }
   ],
   "source": [
    "# Correlation Checking\n",
    "print(train_df[['Pclass', 'Survived']].groupby('Pclass', as_index=False).mean().sort_values(by='Pclass', ascending=True))\n",
    "print('-' * 50)\n",
    "print(train_df[['Sex', 'Survived']].groupby('Sex', as_index=False).mean().sort_values(by='Sex', ascending=True))\n",
    "print('-' * 50)\n",
    "print(train_df[['SibSp', 'Survived']].groupby('SibSp', as_index=False).mean().sort_values(by='SibSp', ascending=True))\n",
    "print('-' * 50)\n",
    "print(train_df[['Parch', 'Survived']].groupby('Parch', as_index=False).mean().sort_values(by='Parch', ascending=True))"
   ]
  },
  {
   "cell_type": "markdown",
   "id": "80ee4248",
   "metadata": {
    "papermill": {
     "duration": 0.011887,
     "end_time": "2022-07-08T15:12:01.958646",
     "exception": false,
     "start_time": "2022-07-08T15:12:01.946759",
     "status": "completed"
    },
    "tags": []
   },
   "source": [
    "# Visualizations"
   ]
  },
  {
   "cell_type": "code",
   "execution_count": 10,
   "id": "955e1626",
   "metadata": {
    "execution": {
     "iopub.execute_input": "2022-07-08T15:12:01.984598Z",
     "iopub.status.busy": "2022-07-08T15:12:01.984129Z",
     "iopub.status.idle": "2022-07-08T15:12:02.699999Z",
     "shell.execute_reply": "2022-07-08T15:12:02.698572Z"
    },
    "papermill": {
     "duration": 0.732165,
     "end_time": "2022-07-08T15:12:02.702634",
     "exception": false,
     "start_time": "2022-07-08T15:12:01.970469",
     "status": "completed"
    },
    "tags": []
   },
   "outputs": [
    {
     "data": {
      "text/plain": [
       "<seaborn.axisgrid.FacetGrid at 0x7f43dc207ed0>"
      ]
     },
     "execution_count": 10,
     "metadata": {},
     "output_type": "execute_result"
    },
    {
     "data": {
      "image/png": "[encoded data removed]",
      "text/plain": [
       "<Figure size 504x252 with 2 Axes>"
      ]
     },
     "metadata": {},
     "output_type": "display_data"
    }
   ],
   "source": [
    "grid = sns.FacetGrid(train_df, col='Survived', height=3.5)\n",
    "grid.map(sns.histplot, 'Age', bins=20)"
   ]
  },
  {
   "cell_type": "code",
   "execution_count": 11,
   "id": "eb3a5d5e",
   "metadata": {
    "execution": {
     "iopub.execute_input": "2022-07-08T15:12:02.730278Z",
     "iopub.status.busy": "2022-07-08T15:12:02.729902Z",
     "iopub.status.idle": "2022-07-08T15:12:04.136825Z",
     "shell.execute_reply": "2022-07-08T15:12:04.135434Z"
    },
    "papermill": {
     "duration": 1.423827,
     "end_time": "2022-07-08T15:12:04.139487",
     "exception": false,
     "start_time": "2022-07-08T15:12:02.715660",
     "status": "completed"
    },
    "tags": []
   },
   "outputs": [
    {
     "data": {
      "text/plain": [
       "<seaborn.axisgrid.FacetGrid at 0x7f440feefe90>"
      ]
     },
     "execution_count": 11,
     "metadata": {},
     "output_type": "execute_result"
    },
    {
     "data": {
      "image/png": "[encoded data removed]",
      "text/plain": [
       "<Figure size 504x756 with 6 Axes>"
      ]
     },
     "metadata": {},
     "output_type": "display_data"
    }
   ],
   "source": [
    "grid = sns.FacetGrid(train_df, col='Survived', row='Pclass', height=3.5)\n",
    "grid.map(sns.histplot, 'Age', bins=20)"
   ]
  },
  {
   "cell_type": "code",
   "execution_count": 12,
   "id": "3ebcb6f2",
   "metadata": {
    "execution": {
     "iopub.execute_input": "2022-07-08T15:12:04.169617Z",
     "iopub.status.busy": "2022-07-08T15:12:04.169228Z",
     "iopub.status.idle": "2022-07-08T15:12:05.592958Z",
     "shell.execute_reply": "2022-07-08T15:12:05.591718Z"
    },
    "papermill": {
     "duration": 1.441782,
     "end_time": "2022-07-08T15:12:05.595755",
     "exception": false,
     "start_time": "2022-07-08T15:12:04.153973",
     "status": "completed"
    },
    "tags": []
   },
   "outputs": [
    {
     "data": {
      "text/plain": [
       "<seaborn.axisgrid.FacetGrid at 0x7f43dc21a210>"
      ]
     },
     "execution_count": 12,
     "metadata": {},
     "output_type": "execute_result"
    },
    {
     "data": {
      "image/png": "[encoded data removed]",
      "text/plain": [
       "<Figure size 581.975x756 with 6 Axes>"
      ]
     },
     "metadata": {},
     "output_type": "display_data"
    }
   ],
   "source": [
    "grid = sns.FacetGrid(train_df, col='Survived', row='Embarked', hue='Sex', height=3.5)\n",
    "grid.map(sns.histplot, 'Sex')\n",
    "grid.add_legend()"
   ]
  },
  {
   "cell_type": "code",
   "execution_count": 13,
   "id": "afc8f10d",
   "metadata": {
    "execution": {
     "iopub.execute_input": "2022-07-08T15:12:05.626898Z",
     "iopub.status.busy": "2022-07-08T15:12:05.625754Z",
     "iopub.status.idle": "2022-07-08T15:12:07.083340Z",
     "shell.execute_reply": "2022-07-08T15:12:07.082465Z"
    },
    "papermill": {
     "duration": 1.475729,
     "end_time": "2022-07-08T15:12:07.085546",
     "exception": false,
     "start_time": "2022-07-08T15:12:05.609817",
     "status": "completed"
    },
    "tags": []
   },
   "outputs": [
    {
     "name": "stderr",
     "output_type": "stream",
     "text": [
      "/opt/conda/lib/python3.7/site-packages/seaborn/axisgrid.py:670: UserWarning: Using the barplot function without specifying `order` is likely to produce an incorrect plot.\n",
      "  warnings.warn(warning)\n"
     ]
    },
    {
     "data": {
      "text/plain": [
       "<seaborn.axisgrid.FacetGrid at 0x7f43d9975390>"
      ]
     },
     "execution_count": 13,
     "metadata": {},
     "output_type": "execute_result"
    },
    {
     "data": {
      "image/png": "[encoded data removed]",
      "text/plain": [
       "<Figure size 512.8x756 with 6 Axes>"
      ]
     },
     "metadata": {},
     "output_type": "display_data"
    }
   ],
   "source": [
    "grid = sns.FacetGrid(train_df, col='Survived', row='Embarked', height=3.5)\n",
    "grid.map(sns.barplot, 'Sex', 'Fare')\n",
    "grid.add_legend()"
   ]
  },
  {
   "cell_type": "code",
   "execution_count": 14,
   "id": "41047fc5",
   "metadata": {
    "execution": {
     "iopub.execute_input": "2022-07-08T15:12:07.117672Z",
     "iopub.status.busy": "2022-07-08T15:12:07.117079Z",
     "iopub.status.idle": "2022-07-08T15:12:08.757424Z",
     "shell.execute_reply": "2022-07-08T15:12:08.756010Z"
    },
    "papermill": {
     "duration": 1.660034,
     "end_time": "2022-07-08T15:12:08.760534",
     "exception": false,
     "start_time": "2022-07-08T15:12:07.100500",
     "status": "completed"
    },
    "tags": []
   },
   "outputs": [
    {
     "data": {
      "text/plain": [
       "<seaborn.axisgrid.FacetGrid at 0x7f43d9cd1dd0>"
      ]
     },
     "execution_count": 14,
     "metadata": {},
     "output_type": "execute_result"
    },
    {
     "data": {
      "image/png": "[encoded data removed]",
      "text/plain": [
       "<Figure size 550.6x756 with 6 Axes>"
      ]
     },
     "metadata": {},
     "output_type": "display_data"
    }
   ],
   "source": [
    "grid = sns.FacetGrid(train_df, col='Survived', row='Embarked', hue='Pclass', height=3.5)\n",
    "grid.map(sns.histplot, 'Pclass')\n",
    "grid.add_legend()"
   ]
  },
  {
   "cell_type": "markdown",
   "id": "a861db96",
   "metadata": {
    "execution": {
     "iopub.execute_input": "2022-07-06T07:45:39.21603Z",
     "iopub.status.busy": "2022-07-06T07:45:39.215582Z",
     "iopub.status.idle": "2022-07-06T07:45:39.239638Z",
     "shell.execute_reply": "2022-07-06T07:45:39.238535Z",
     "shell.execute_reply.started": "2022-07-06T07:45:39.215969Z"
    },
    "papermill": {
     "duration": 0.016016,
     "end_time": "2022-07-08T15:12:08.792560",
     "exception": false,
     "start_time": "2022-07-08T15:12:08.776544",
     "status": "completed"
    },
    "tags": []
   },
   "source": [
    "# Wrangling Data"
   ]
  },
  {
   "cell_type": "code",
   "execution_count": 15,
   "id": "b5751247",
   "metadata": {
    "execution": {
     "iopub.execute_input": "2022-07-08T15:12:08.826491Z",
     "iopub.status.busy": "2022-07-08T15:12:08.825926Z",
     "iopub.status.idle": "2022-07-08T15:12:08.867134Z",
     "shell.execute_reply": "2022-07-08T15:12:08.865879Z"
    },
    "papermill": {
     "duration": 0.061904,
     "end_time": "2022-07-08T15:12:08.870486",
     "exception": false,
     "start_time": "2022-07-08T15:12:08.808582",
     "status": "completed"
    },
    "tags": []
   },
   "outputs": [
    {
     "data": {
      "text/html": [
       "<div>\n",
       "<style scoped>\n",
       "    .dataframe tbody tr th:only-of-type {\n",
       "        vertical-align: middle;\n",
       "    }\n",
       "\n",
       "    .dataframe tbody tr th {\n",
       "        vertical-align: top;\n",
       "    }\n",
       "\n",
       "    .dataframe thead th {\n",
       "        text-align: right;\n",
       "    }\n",
       "</style>\n",
       "<table border=\"1\" class=\"dataframe\">\n",
       "  <thead>\n",
       "    <tr style=\"text-align: right;\">\n",
       "      <th>Sex</th>\n",
       "      <th>female</th>\n",
       "      <th>male</th>\n",
       "    </tr>\n",
       "    <tr>\n",
       "      <th>Title</th>\n",
       "      <th></th>\n",
       "      <th></th>\n",
       "    </tr>\n",
       "  </thead>\n",
       "  <tbody>\n",
       "    <tr>\n",
       "      <th>Capt</th>\n",
       "      <td>0</td>\n",
       "      <td>1</td>\n",
       "    </tr>\n",
       "    <tr>\n",
       "      <th>Col</th>\n",
       "      <td>0</td>\n",
       "      <td>2</td>\n",
       "    </tr>\n",
       "    <tr>\n",
       "      <th>Countess</th>\n",
       "      <td>1</td>\n",
       "      <td>0</td>\n",
       "    </tr>\n",
       "    <tr>\n",
       "      <th>Don</th>\n",
       "      <td>0</td>\n",
       "      <td>1</td>\n",
       "    </tr>\n",
       "    <tr>\n",
       "      <th>Dr</th>\n",
       "      <td>1</td>\n",
       "      <td>6</td>\n",
       "    </tr>\n",
       "    <tr>\n",
       "      <th>Jonkheer</th>\n",
       "      <td>0</td>\n",
       "      <td>1</td>\n",
       "    </tr>\n",
       "    <tr>\n",
       "      <th>Lady</th>\n",
       "      <td>1</td>\n",
       "      <td>0</td>\n",
       "    </tr>\n",
       "    <tr>\n",
       "      <th>Major</th>\n",
       "      <td>0</td>\n",
       "      <td>2</td>\n",
       "    </tr>\n",
       "    <tr>\n",
       "      <th>Master</th>\n",
       "      <td>0</td>\n",
       "      <td>40</td>\n",
       "    </tr>\n",
       "    <tr>\n",
       "      <th>Miss</th>\n",
       "      <td>182</td>\n",
       "      <td>0</td>\n",
       "    </tr>\n",
       "    <tr>\n",
       "      <th>Mlle</th>\n",
       "      <td>2</td>\n",
       "      <td>0</td>\n",
       "    </tr>\n",
       "    <tr>\n",
       "      <th>Mme</th>\n",
       "      <td>1</td>\n",
       "      <td>0</td>\n",
       "    </tr>\n",
       "    <tr>\n",
       "      <th>Mr</th>\n",
       "      <td>0</td>\n",
       "      <td>517</td>\n",
       "    </tr>\n",
       "    <tr>\n",
       "      <th>Mrs</th>\n",
       "      <td>125</td>\n",
       "      <td>0</td>\n",
       "    </tr>\n",
       "    <tr>\n",
       "      <th>Ms</th>\n",
       "      <td>1</td>\n",
       "      <td>0</td>\n",
       "    </tr>\n",
       "    <tr>\n",
       "      <th>Rev</th>\n",
       "      <td>0</td>\n",
       "      <td>6</td>\n",
       "    </tr>\n",
       "    <tr>\n",
       "      <th>Sir</th>\n",
       "      <td>0</td>\n",
       "      <td>1</td>\n",
       "    </tr>\n",
       "  </tbody>\n",
       "</table>\n",
       "</div>"
      ],
      "text/plain": [
       "Sex       female  male\n",
       "Title                 \n",
       "Capt           0     1\n",
       "Col            0     2\n",
       "Countess       1     0\n",
       "Don            0     1\n",
       "Dr             1     6\n",
       "Jonkheer       0     1\n",
       "Lady           1     0\n",
       "Major          0     2\n",
       "Master         0    40\n",
       "Miss         182     0\n",
       "Mlle           2     0\n",
       "Mme            1     0\n",
       "Mr             0   517\n",
       "Mrs          125     0\n",
       "Ms             1     0\n",
       "Rev            0     6\n",
       "Sir            0     1"
      ]
     },
     "execution_count": 15,
     "metadata": {},
     "output_type": "execute_result"
    }
   ],
   "source": [
    "train_df['Title'] = train_df['Name'].str.extract(' ([A-Za-z]+)\\.', expand=False)\n",
    "test_df['Title'] = test_df['Name'].str.extract(' ([A-Za-z]+)\\.', expand=False)\n",
    "\n",
    "pd.crosstab(train_df['Title'], train_df['Sex'])"
   ]
  },
  {
   "cell_type": "code",
   "execution_count": 16,
   "id": "afefbe78",
   "metadata": {
    "execution": {
     "iopub.execute_input": "2022-07-08T15:12:08.921607Z",
     "iopub.status.busy": "2022-07-08T15:12:08.920488Z",
     "iopub.status.idle": "2022-07-08T15:12:08.942616Z",
     "shell.execute_reply": "2022-07-08T15:12:08.941321Z"
    },
    "papermill": {
     "duration": 0.05738,
     "end_time": "2022-07-08T15:12:08.946825",
     "exception": false,
     "start_time": "2022-07-08T15:12:08.889445",
     "status": "completed"
    },
    "tags": []
   },
   "outputs": [],
   "source": [
    "train_df['Title'].replace(['Capt', 'Col', 'Countess', 'Don', 'Dr', 'Jonkheer', 'Lady', 'Major', 'Rev', 'Sir', 'Dona'], 'Rare', inplace=True)\n",
    "train_df['Title'].replace('Master', 'Mr', inplace=True)\n",
    "train_df['Title'].replace('Ms', 'Miss', inplace=True)\n",
    "train_df['Title'].replace('Mlle', 'Miss', inplace=True)\n",
    "train_df['Title'].replace('Mme', 'Mrs', inplace=True)\n",
    "\n",
    "test_df['Title'].replace(['Capt', 'Col', 'Countess', 'Don', 'Dr', 'Jonkheer', 'Lady', 'Major', 'Rev', 'Sir', 'Dona'], 'Rare', inplace=True)\n",
    "test_df['Title'].replace('Master', 'Mr', inplace=True)\n",
    "test_df['Title'].replace('Ms', 'Miss', inplace=True)\n",
    "test_df['Title'].replace('Mlle', 'Miss', inplace=True)\n",
    "test_df['Title'].replace('Mme', 'Mrs', inplace=True)"
   ]
  },
  {
   "cell_type": "code",
   "execution_count": 17,
   "id": "deeddf08",
   "metadata": {
    "execution": {
     "iopub.execute_input": "2022-07-08T15:12:08.989772Z",
     "iopub.status.busy": "2022-07-08T15:12:08.988773Z",
     "iopub.status.idle": "2022-07-08T15:12:09.004386Z",
     "shell.execute_reply": "2022-07-08T15:12:09.003077Z"
    },
    "papermill": {
     "duration": 0.038649,
     "end_time": "2022-07-08T15:12:09.007151",
     "exception": false,
     "start_time": "2022-07-08T15:12:08.968502",
     "status": "completed"
    },
    "tags": []
   },
   "outputs": [
    {
     "data": {
      "text/html": [
       "<div>\n",
       "<style scoped>\n",
       "    .dataframe tbody tr th:only-of-type {\n",
       "        vertical-align: middle;\n",
       "    }\n",
       "\n",
       "    .dataframe tbody tr th {\n",
       "        vertical-align: top;\n",
       "    }\n",
       "\n",
       "    .dataframe thead th {\n",
       "        text-align: right;\n",
       "    }\n",
       "</style>\n",
       "<table border=\"1\" class=\"dataframe\">\n",
       "  <thead>\n",
       "    <tr style=\"text-align: right;\">\n",
       "      <th></th>\n",
       "      <th>Title</th>\n",
       "      <th>Survived</th>\n",
       "    </tr>\n",
       "  </thead>\n",
       "  <tbody>\n",
       "    <tr>\n",
       "      <th>0</th>\n",
       "      <td>Miss</td>\n",
       "      <td>0.702703</td>\n",
       "    </tr>\n",
       "    <tr>\n",
       "      <th>1</th>\n",
       "      <td>Mr</td>\n",
       "      <td>0.186715</td>\n",
       "    </tr>\n",
       "    <tr>\n",
       "      <th>2</th>\n",
       "      <td>Mrs</td>\n",
       "      <td>0.793651</td>\n",
       "    </tr>\n",
       "    <tr>\n",
       "      <th>3</th>\n",
       "      <td>Rare</td>\n",
       "      <td>0.347826</td>\n",
       "    </tr>\n",
       "  </tbody>\n",
       "</table>\n",
       "</div>"
      ],
      "text/plain": [
       "  Title  Survived\n",
       "0  Miss  0.702703\n",
       "1    Mr  0.186715\n",
       "2   Mrs  0.793651\n",
       "3  Rare  0.347826"
      ]
     },
     "execution_count": 17,
     "metadata": {},
     "output_type": "execute_result"
    }
   ],
   "source": [
    "train_df[['Title', 'Survived']].groupby('Title', as_index=False).mean()"
   ]
  },
  {
   "cell_type": "code",
   "execution_count": 18,
   "id": "1cc89b90",
   "metadata": {
    "execution": {
     "iopub.execute_input": "2022-07-08T15:12:09.044589Z",
     "iopub.status.busy": "2022-07-08T15:12:09.043221Z",
     "iopub.status.idle": "2022-07-08T15:12:09.134233Z",
     "shell.execute_reply": "2022-07-08T15:12:09.132934Z"
    },
    "papermill": {
     "duration": 0.112682,
     "end_time": "2022-07-08T15:12:09.138152",
     "exception": false,
     "start_time": "2022-07-08T15:12:09.025470",
     "status": "completed"
    },
    "tags": []
   },
   "outputs": [
    {
     "name": "stdout",
     "output_type": "stream",
     "text": [
      "<class 'pandas.core.frame.DataFrame'>\n",
      "RangeIndex: 891 entries, 0 to 890\n",
      "Data columns (total 13 columns):\n",
      " #   Column       Non-Null Count  Dtype  \n",
      "---  ------       --------------  -----  \n",
      " 0   PassengerId  891 non-null    int64  \n",
      " 1   Survived     891 non-null    int64  \n",
      " 2   Pclass       891 non-null    int64  \n",
      " 3   Name         891 non-null    object \n",
      " 4   Sex          891 non-null    object \n",
      " 5   Age          891 non-null    float64\n",
      " 6   SibSp        891 non-null    int64  \n",
      " 7   Parch        891 non-null    int64  \n",
      " 8   Ticket       891 non-null    object \n",
      " 9   Fare         891 non-null    float64\n",
      " 10  Cabin        204 non-null    object \n",
      " 11  Embarked     891 non-null    object \n",
      " 12  Title        891 non-null    object \n",
      "dtypes: float64(2), int64(5), object(6)\n",
      "memory usage: 90.6+ KB\n",
      "None\n",
      "--------------------------------------------------\n",
      "<class 'pandas.core.frame.DataFrame'>\n",
      "RangeIndex: 418 entries, 0 to 417\n",
      "Data columns (total 12 columns):\n",
      " #   Column       Non-Null Count  Dtype  \n",
      "---  ------       --------------  -----  \n",
      " 0   PassengerId  418 non-null    int64  \n",
      " 1   Pclass       418 non-null    int64  \n",
      " 2   Name         418 non-null    object \n",
      " 3   Sex          418 non-null    object \n",
      " 4   Age          418 non-null    float64\n",
      " 5   SibSp        418 non-null    int64  \n",
      " 6   Parch        418 non-null    int64  \n",
      " 7   Ticket       418 non-null    object \n",
      " 8   Fare         418 non-null    float64\n",
      " 9   Cabin        91 non-null     object \n",
      " 10  Embarked     418 non-null    object \n",
      " 11  Title        418 non-null    object \n",
      "dtypes: float64(2), int64(4), object(6)\n",
      "memory usage: 39.3+ KB\n",
      "None\n"
     ]
    }
   ],
   "source": [
    "null_num_cols = ['Age', 'Fare']\n",
    "num_imputer = KNNImputer()\n",
    "\n",
    "tmp_tr_df = pd.DataFrame(num_imputer.fit_transform(train_df[null_num_cols]))\n",
    "tmp_tr_df.columns = null_num_cols\n",
    "train_df[null_num_cols] = tmp_tr_df[null_num_cols]\n",
    "\n",
    "tmp_te_df = pd.DataFrame(num_imputer.transform(test_df[null_num_cols]))\n",
    "tmp_te_df.columns = null_num_cols\n",
    "test_df[null_num_cols] = tmp_te_df[null_num_cols]\n",
    "\n",
    "\n",
    "emb_imputer = SimpleImputer(strategy='most_frequent')\n",
    "\n",
    "tmp_tr_df = pd.DataFrame(emb_imputer.fit_transform(train_df[['Embarked']]))\n",
    "tmp_tr_df.columns = ['Embarked']\n",
    "train_df[['Embarked']] = tmp_tr_df[['Embarked']]\n",
    "\n",
    "\n",
    "print(train_df.info())\n",
    "print('-' * 50)\n",
    "print(test_df.info())"
   ]
  },
  {
   "cell_type": "code",
   "execution_count": 19,
   "id": "e2fec50a",
   "metadata": {
    "execution": {
     "iopub.execute_input": "2022-07-08T15:12:09.194169Z",
     "iopub.status.busy": "2022-07-08T15:12:09.193774Z",
     "iopub.status.idle": "2022-07-08T15:12:09.222189Z",
     "shell.execute_reply": "2022-07-08T15:12:09.221233Z"
    },
    "papermill": {
     "duration": 0.057488,
     "end_time": "2022-07-08T15:12:09.224900",
     "exception": false,
     "start_time": "2022-07-08T15:12:09.167412",
     "status": "completed"
    },
    "tags": []
   },
   "outputs": [
    {
     "name": "stdout",
     "output_type": "stream",
     "text": [
      "                Age  Survived\n",
      "0     (0.34, 8.378]  0.666667\n",
      "9    (72.042, 80.0]  0.500000\n",
      "6  (48.168, 56.126]  0.479167\n",
      "1   (8.378, 16.336]  0.395833\n",
      "4   (32.252, 40.21]  0.377358\n",
      "7  (56.126, 64.084]  0.375000\n",
      "2  (16.336, 24.294]  0.362245\n",
      "5   (40.21, 48.168]  0.354430\n",
      "3  (24.294, 32.252]  0.349265\n",
      "8  (64.084, 72.042]  0.000000\n"
     ]
    }
   ],
   "source": [
    "age_bands = pd.cut(train_df['Age'], 10)\n",
    "result = age_bands.to_frame().join(train_df['Survived'], how='inner').groupby(['Age'], as_index=False).mean().sort_values(by='Survived', ascending=False)\n",
    "print(result)"
   ]
  },
  {
   "cell_type": "code",
   "execution_count": 20,
   "id": "4d6deac5",
   "metadata": {
    "execution": {
     "iopub.execute_input": "2022-07-08T15:12:09.259608Z",
     "iopub.status.busy": "2022-07-08T15:12:09.258606Z",
     "iopub.status.idle": "2022-07-08T15:12:09.278641Z",
     "shell.execute_reply": "2022-07-08T15:12:09.277692Z"
    },
    "papermill": {
     "duration": 0.040193,
     "end_time": "2022-07-08T15:12:09.281113",
     "exception": false,
     "start_time": "2022-07-08T15:12:09.240920",
     "status": "completed"
    },
    "tags": []
   },
   "outputs": [
    {
     "name": "stdout",
     "output_type": "stream",
     "text": [
      "                 Fare  Survived\n",
      "3  (384.247, 512.329]  1.000000\n",
      "1  (128.082, 256.165]  0.724138\n",
      "2  (256.165, 384.247]  0.666667\n",
      "0   (-0.512, 128.082]  0.368113\n"
     ]
    }
   ],
   "source": [
    "fare_bands = pd.cut(train_df['Fare'], 4)\n",
    "result = fare_bands.to_frame().join(train_df['Survived'], how='inner').groupby(['Fare'], as_index=False).mean().sort_values(by='Survived', ascending=False)\n",
    "print(result)"
   ]
  },
  {
   "cell_type": "code",
   "execution_count": 21,
   "id": "d0b875b0",
   "metadata": {
    "execution": {
     "iopub.execute_input": "2022-07-08T15:12:09.316509Z",
     "iopub.status.busy": "2022-07-08T15:12:09.315918Z",
     "iopub.status.idle": "2022-07-08T15:12:09.350192Z",
     "shell.execute_reply": "2022-07-08T15:12:09.349043Z"
    },
    "papermill": {
     "duration": 0.055825,
     "end_time": "2022-07-08T15:12:09.353039",
     "exception": false,
     "start_time": "2022-07-08T15:12:09.297214",
     "status": "completed"
    },
    "tags": []
   },
   "outputs": [],
   "source": [
    "# Cannot use one hot encoder to directly encode age_bands and fare_babnds; because transforming the test dataset, firstly needs this data to be cut into bins \n",
    "# which pattern should learned by the training dataset; not possible.\n",
    "\n",
    "for df in [train_df, test_df]:\n",
    "    df.loc[ df['Age'] <= 8, 'Age'] = 0\n",
    "    df.loc[(df['Age'] > 8) & (df['Age'] <= 16), 'Age'] = 1\n",
    "    df.loc[(df['Age'] > 16) & (df['Age'] <= 24), 'Age'] = 2\n",
    "    df.loc[(df['Age'] > 24) & (df['Age'] <= 32), 'Age'] = 3\n",
    "    df.loc[(df['Age'] > 32) & (df['Age'] <= 40), 'Age'] = 4\n",
    "    df.loc[(df['Age'] > 40) & (df['Age'] <= 48), 'Age'] = 5\n",
    "    df.loc[(df['Age'] > 48) & (df['Age'] <= 56), 'Age'] = 6\n",
    "    df.loc[(df['Age'] > 56) & (df['Age'] <= 64), 'Age'] = 7\n",
    "    df.loc[(df['Age'] > 64) & (df['Age'] <= 72), 'Age'] = 8\n",
    "    df.loc[ df['Age'] > 72, 'Age'] = 9\n",
    "    \n",
    "    df.loc[ df['Fare'] <= 128, 'Fare'] = 0\n",
    "    df.loc[(df['Fare'] > 128) & (df['Fare'] <= 256), 'Fare'] = 1\n",
    "    df.loc[(df['Fare'] > 256) & (df['Fare'] <= 384), 'Fare'] = 2\n",
    "    df.loc[ df['Fare'] > 384, 'Fare'] = 3"
   ]
  },
  {
   "cell_type": "markdown",
   "id": "4c7f19a3",
   "metadata": {
    "papermill": {
     "duration": 0.016798,
     "end_time": "2022-07-08T15:12:09.386522",
     "exception": false,
     "start_time": "2022-07-08T15:12:09.369724",
     "status": "completed"
    },
    "tags": []
   },
   "source": [
    "# Dropping Unnecessary Columns"
   ]
  },
  {
   "cell_type": "code",
   "execution_count": 22,
   "id": "ac41cdc4",
   "metadata": {
    "execution": {
     "iopub.execute_input": "2022-07-08T15:12:09.421601Z",
     "iopub.status.busy": "2022-07-08T15:12:09.421031Z",
     "iopub.status.idle": "2022-07-08T15:12:09.428793Z",
     "shell.execute_reply": "2022-07-08T15:12:09.427685Z"
    },
    "papermill": {
     "duration": 0.028553,
     "end_time": "2022-07-08T15:12:09.431753",
     "exception": false,
     "start_time": "2022-07-08T15:12:09.403200",
     "status": "completed"
    },
    "tags": []
   },
   "outputs": [
    {
     "name": "stdout",
     "output_type": "stream",
     "text": [
      " train_df shape: (891, 9) \n",
      " test_df shape: (418, 9)\n"
     ]
    }
   ],
   "source": [
    "train_df.drop(['PassengerId', 'Cabin', 'Ticket', 'Name'], axis=1, inplace=True)\n",
    "test_df.drop(['Cabin', 'Ticket', 'Name'], axis=1, inplace=True)\n",
    "\n",
    "print(' train_df shape: {} \\n test_df shape: {}'.format(train_df.shape, test_df.shape))"
   ]
  },
  {
   "cell_type": "markdown",
   "id": "8a6057dd",
   "metadata": {
    "papermill": {
     "duration": 0.01602,
     "end_time": "2022-07-08T15:12:09.464676",
     "exception": false,
     "start_time": "2022-07-08T15:12:09.448656",
     "status": "completed"
    },
    "tags": []
   },
   "source": [
    "# One-Hot Encoding Categorical (and Ordinal) Features"
   ]
  },
  {
   "cell_type": "code",
   "execution_count": 23,
   "id": "0f2d65eb",
   "metadata": {
    "execution": {
     "iopub.execute_input": "2022-07-08T15:12:09.499364Z",
     "iopub.status.busy": "2022-07-08T15:12:09.498991Z",
     "iopub.status.idle": "2022-07-08T15:12:09.571360Z",
     "shell.execute_reply": "2022-07-08T15:12:09.570044Z"
    },
    "papermill": {
     "duration": 0.092669,
     "end_time": "2022-07-08T15:12:09.574028",
     "exception": false,
     "start_time": "2022-07-08T15:12:09.481359",
     "status": "completed"
    },
    "tags": []
   },
   "outputs": [
    {
     "data": {
      "text/html": [
       "<div>\n",
       "<style scoped>\n",
       "    .dataframe tbody tr th:only-of-type {\n",
       "        vertical-align: middle;\n",
       "    }\n",
       "\n",
       "    .dataframe tbody tr th {\n",
       "        vertical-align: top;\n",
       "    }\n",
       "\n",
       "    .dataframe thead th {\n",
       "        text-align: right;\n",
       "    }\n",
       "</style>\n",
       "<table border=\"1\" class=\"dataframe\">\n",
       "  <thead>\n",
       "    <tr style=\"text-align: right;\">\n",
       "      <th></th>\n",
       "      <th>PassengerId</th>\n",
       "      <th>SibSp</th>\n",
       "      <th>Parch</th>\n",
       "      <th>Title_Miss</th>\n",
       "      <th>Title_Mr</th>\n",
       "      <th>Title_Mrs</th>\n",
       "      <th>Title_Rare</th>\n",
       "      <th>Sex_female</th>\n",
       "      <th>Sex_male</th>\n",
       "      <th>Embarked_C</th>\n",
       "      <th>Embarked_Q</th>\n",
       "      <th>Embarked_S</th>\n",
       "      <th>Age_0.0</th>\n",
       "      <th>Age_1.0</th>\n",
       "      <th>Age_2.0</th>\n",
       "      <th>Age_3.0</th>\n",
       "      <th>Age_4.0</th>\n",
       "      <th>Age_5.0</th>\n",
       "      <th>Age_6.0</th>\n",
       "      <th>Age_7.0</th>\n",
       "      <th>Age_8.0</th>\n",
       "      <th>Age_9.0</th>\n",
       "      <th>Pclass_1</th>\n",
       "      <th>Pclass_2</th>\n",
       "      <th>Pclass_3</th>\n",
       "      <th>Fare_0.0</th>\n",
       "      <th>Fare_1.0</th>\n",
       "      <th>Fare_2.0</th>\n",
       "      <th>Fare_3.0</th>\n",
       "    </tr>\n",
       "  </thead>\n",
       "  <tbody>\n",
       "    <tr>\n",
       "      <th>8</th>\n",
       "      <td>900</td>\n",
       "      <td>0</td>\n",
       "      <td>0</td>\n",
       "      <td>0.0</td>\n",
       "      <td>0.0</td>\n",
       "      <td>1.0</td>\n",
       "      <td>0.0</td>\n",
       "      <td>1.0</td>\n",
       "      <td>0.0</td>\n",
       "      <td>1.0</td>\n",
       "      <td>0.0</td>\n",
       "      <td>0.0</td>\n",
       "      <td>0.0</td>\n",
       "      <td>0.0</td>\n",
       "      <td>1.0</td>\n",
       "      <td>0.0</td>\n",
       "      <td>0.0</td>\n",
       "      <td>0.0</td>\n",
       "      <td>0.0</td>\n",
       "      <td>0.0</td>\n",
       "      <td>0.0</td>\n",
       "      <td>0.0</td>\n",
       "      <td>0.0</td>\n",
       "      <td>0.0</td>\n",
       "      <td>1.0</td>\n",
       "      <td>1.0</td>\n",
       "      <td>0.0</td>\n",
       "      <td>0.0</td>\n",
       "      <td>0.0</td>\n",
       "    </tr>\n",
       "    <tr>\n",
       "      <th>415</th>\n",
       "      <td>1307</td>\n",
       "      <td>0</td>\n",
       "      <td>0</td>\n",
       "      <td>0.0</td>\n",
       "      <td>1.0</td>\n",
       "      <td>0.0</td>\n",
       "      <td>0.0</td>\n",
       "      <td>0.0</td>\n",
       "      <td>1.0</td>\n",
       "      <td>0.0</td>\n",
       "      <td>0.0</td>\n",
       "      <td>1.0</td>\n",
       "      <td>0.0</td>\n",
       "      <td>0.0</td>\n",
       "      <td>0.0</td>\n",
       "      <td>0.0</td>\n",
       "      <td>1.0</td>\n",
       "      <td>0.0</td>\n",
       "      <td>0.0</td>\n",
       "      <td>0.0</td>\n",
       "      <td>0.0</td>\n",
       "      <td>0.0</td>\n",
       "      <td>0.0</td>\n",
       "      <td>0.0</td>\n",
       "      <td>1.0</td>\n",
       "      <td>1.0</td>\n",
       "      <td>0.0</td>\n",
       "      <td>0.0</td>\n",
       "      <td>0.0</td>\n",
       "    </tr>\n",
       "    <tr>\n",
       "      <th>123</th>\n",
       "      <td>1015</td>\n",
       "      <td>0</td>\n",
       "      <td>0</td>\n",
       "      <td>0.0</td>\n",
       "      <td>1.0</td>\n",
       "      <td>0.0</td>\n",
       "      <td>0.0</td>\n",
       "      <td>0.0</td>\n",
       "      <td>1.0</td>\n",
       "      <td>0.0</td>\n",
       "      <td>0.0</td>\n",
       "      <td>1.0</td>\n",
       "      <td>0.0</td>\n",
       "      <td>0.0</td>\n",
       "      <td>0.0</td>\n",
       "      <td>1.0</td>\n",
       "      <td>0.0</td>\n",
       "      <td>0.0</td>\n",
       "      <td>0.0</td>\n",
       "      <td>0.0</td>\n",
       "      <td>0.0</td>\n",
       "      <td>0.0</td>\n",
       "      <td>0.0</td>\n",
       "      <td>0.0</td>\n",
       "      <td>1.0</td>\n",
       "      <td>1.0</td>\n",
       "      <td>0.0</td>\n",
       "      <td>0.0</td>\n",
       "      <td>0.0</td>\n",
       "    </tr>\n",
       "    <tr>\n",
       "      <th>290</th>\n",
       "      <td>1182</td>\n",
       "      <td>0</td>\n",
       "      <td>0</td>\n",
       "      <td>0.0</td>\n",
       "      <td>1.0</td>\n",
       "      <td>0.0</td>\n",
       "      <td>0.0</td>\n",
       "      <td>0.0</td>\n",
       "      <td>1.0</td>\n",
       "      <td>0.0</td>\n",
       "      <td>0.0</td>\n",
       "      <td>1.0</td>\n",
       "      <td>0.0</td>\n",
       "      <td>1.0</td>\n",
       "      <td>0.0</td>\n",
       "      <td>0.0</td>\n",
       "      <td>0.0</td>\n",
       "      <td>0.0</td>\n",
       "      <td>0.0</td>\n",
       "      <td>0.0</td>\n",
       "      <td>0.0</td>\n",
       "      <td>0.0</td>\n",
       "      <td>1.0</td>\n",
       "      <td>0.0</td>\n",
       "      <td>0.0</td>\n",
       "      <td>1.0</td>\n",
       "      <td>0.0</td>\n",
       "      <td>0.0</td>\n",
       "      <td>0.0</td>\n",
       "    </tr>\n",
       "    <tr>\n",
       "      <th>384</th>\n",
       "      <td>1276</td>\n",
       "      <td>0</td>\n",
       "      <td>0</td>\n",
       "      <td>0.0</td>\n",
       "      <td>1.0</td>\n",
       "      <td>0.0</td>\n",
       "      <td>0.0</td>\n",
       "      <td>0.0</td>\n",
       "      <td>1.0</td>\n",
       "      <td>0.0</td>\n",
       "      <td>0.0</td>\n",
       "      <td>1.0</td>\n",
       "      <td>0.0</td>\n",
       "      <td>0.0</td>\n",
       "      <td>0.0</td>\n",
       "      <td>1.0</td>\n",
       "      <td>0.0</td>\n",
       "      <td>0.0</td>\n",
       "      <td>0.0</td>\n",
       "      <td>0.0</td>\n",
       "      <td>0.0</td>\n",
       "      <td>0.0</td>\n",
       "      <td>0.0</td>\n",
       "      <td>1.0</td>\n",
       "      <td>0.0</td>\n",
       "      <td>1.0</td>\n",
       "      <td>0.0</td>\n",
       "      <td>0.0</td>\n",
       "      <td>0.0</td>\n",
       "    </tr>\n",
       "    <tr>\n",
       "      <th>18</th>\n",
       "      <td>910</td>\n",
       "      <td>1</td>\n",
       "      <td>0</td>\n",
       "      <td>1.0</td>\n",
       "      <td>0.0</td>\n",
       "      <td>0.0</td>\n",
       "      <td>0.0</td>\n",
       "      <td>1.0</td>\n",
       "      <td>0.0</td>\n",
       "      <td>0.0</td>\n",
       "      <td>0.0</td>\n",
       "      <td>1.0</td>\n",
       "      <td>0.0</td>\n",
       "      <td>0.0</td>\n",
       "      <td>0.0</td>\n",
       "      <td>1.0</td>\n",
       "      <td>0.0</td>\n",
       "      <td>0.0</td>\n",
       "      <td>0.0</td>\n",
       "      <td>0.0</td>\n",
       "      <td>0.0</td>\n",
       "      <td>0.0</td>\n",
       "      <td>0.0</td>\n",
       "      <td>0.0</td>\n",
       "      <td>1.0</td>\n",
       "      <td>1.0</td>\n",
       "      <td>0.0</td>\n",
       "      <td>0.0</td>\n",
       "      <td>0.0</td>\n",
       "    </tr>\n",
       "    <tr>\n",
       "      <th>373</th>\n",
       "      <td>1265</td>\n",
       "      <td>0</td>\n",
       "      <td>0</td>\n",
       "      <td>0.0</td>\n",
       "      <td>1.0</td>\n",
       "      <td>0.0</td>\n",
       "      <td>0.0</td>\n",
       "      <td>0.0</td>\n",
       "      <td>1.0</td>\n",
       "      <td>0.0</td>\n",
       "      <td>0.0</td>\n",
       "      <td>1.0</td>\n",
       "      <td>0.0</td>\n",
       "      <td>0.0</td>\n",
       "      <td>0.0</td>\n",
       "      <td>0.0</td>\n",
       "      <td>0.0</td>\n",
       "      <td>1.0</td>\n",
       "      <td>0.0</td>\n",
       "      <td>0.0</td>\n",
       "      <td>0.0</td>\n",
       "      <td>0.0</td>\n",
       "      <td>0.0</td>\n",
       "      <td>1.0</td>\n",
       "      <td>0.0</td>\n",
       "      <td>1.0</td>\n",
       "      <td>0.0</td>\n",
       "      <td>0.0</td>\n",
       "      <td>0.0</td>\n",
       "    </tr>\n",
       "    <tr>\n",
       "      <th>369</th>\n",
       "      <td>1261</td>\n",
       "      <td>0</td>\n",
       "      <td>0</td>\n",
       "      <td>0.0</td>\n",
       "      <td>1.0</td>\n",
       "      <td>0.0</td>\n",
       "      <td>0.0</td>\n",
       "      <td>0.0</td>\n",
       "      <td>1.0</td>\n",
       "      <td>1.0</td>\n",
       "      <td>0.0</td>\n",
       "      <td>0.0</td>\n",
       "      <td>0.0</td>\n",
       "      <td>0.0</td>\n",
       "      <td>0.0</td>\n",
       "      <td>1.0</td>\n",
       "      <td>0.0</td>\n",
       "      <td>0.0</td>\n",
       "      <td>0.0</td>\n",
       "      <td>0.0</td>\n",
       "      <td>0.0</td>\n",
       "      <td>0.0</td>\n",
       "      <td>0.0</td>\n",
       "      <td>1.0</td>\n",
       "      <td>0.0</td>\n",
       "      <td>1.0</td>\n",
       "      <td>0.0</td>\n",
       "      <td>0.0</td>\n",
       "      <td>0.0</td>\n",
       "    </tr>\n",
       "    <tr>\n",
       "      <th>21</th>\n",
       "      <td>913</td>\n",
       "      <td>0</td>\n",
       "      <td>1</td>\n",
       "      <td>0.0</td>\n",
       "      <td>1.0</td>\n",
       "      <td>0.0</td>\n",
       "      <td>0.0</td>\n",
       "      <td>0.0</td>\n",
       "      <td>1.0</td>\n",
       "      <td>0.0</td>\n",
       "      <td>0.0</td>\n",
       "      <td>1.0</td>\n",
       "      <td>0.0</td>\n",
       "      <td>1.0</td>\n",
       "      <td>0.0</td>\n",
       "      <td>0.0</td>\n",
       "      <td>0.0</td>\n",
       "      <td>0.0</td>\n",
       "      <td>0.0</td>\n",
       "      <td>0.0</td>\n",
       "      <td>0.0</td>\n",
       "      <td>0.0</td>\n",
       "      <td>0.0</td>\n",
       "      <td>0.0</td>\n",
       "      <td>1.0</td>\n",
       "      <td>1.0</td>\n",
       "      <td>0.0</td>\n",
       "      <td>0.0</td>\n",
       "      <td>0.0</td>\n",
       "    </tr>\n",
       "    <tr>\n",
       "      <th>149</th>\n",
       "      <td>1041</td>\n",
       "      <td>1</td>\n",
       "      <td>1</td>\n",
       "      <td>0.0</td>\n",
       "      <td>0.0</td>\n",
       "      <td>0.0</td>\n",
       "      <td>1.0</td>\n",
       "      <td>0.0</td>\n",
       "      <td>1.0</td>\n",
       "      <td>0.0</td>\n",
       "      <td>0.0</td>\n",
       "      <td>1.0</td>\n",
       "      <td>0.0</td>\n",
       "      <td>0.0</td>\n",
       "      <td>0.0</td>\n",
       "      <td>1.0</td>\n",
       "      <td>0.0</td>\n",
       "      <td>0.0</td>\n",
       "      <td>0.0</td>\n",
       "      <td>0.0</td>\n",
       "      <td>0.0</td>\n",
       "      <td>0.0</td>\n",
       "      <td>0.0</td>\n",
       "      <td>1.0</td>\n",
       "      <td>0.0</td>\n",
       "      <td>1.0</td>\n",
       "      <td>0.0</td>\n",
       "      <td>0.0</td>\n",
       "      <td>0.0</td>\n",
       "    </tr>\n",
       "  </tbody>\n",
       "</table>\n",
       "</div>"
      ],
      "text/plain": [
       "     PassengerId  SibSp  Parch  Title_Miss  Title_Mr  Title_Mrs  Title_Rare  Sex_female  Sex_male  Embarked_C  Embarked_Q  Embarked_S  Age_0.0  Age_1.0  Age_2.0  Age_3.0  Age_4.0  Age_5.0  Age_6.0  Age_7.0  Age_8.0  Age_9.0  Pclass_1  Pclass_2  Pclass_3  Fare_0.0  Fare_1.0  Fare_2.0  Fare_3.0\n",
       "8            900      0      0         0.0       0.0        1.0         0.0         1.0       0.0         1.0         0.0         0.0      0.0      0.0      1.0      0.0      0.0      0.0      0.0      0.0      0.0      0.0       0.0       0.0       1.0       1.0       0.0       0.0       0.0\n",
       "415         1307      0      0         0.0       1.0        0.0         0.0         0.0       1.0         0.0         0.0         1.0      0.0      0.0      0.0      0.0      1.0      0.0      0.0      0.0      0.0      0.0       0.0       0.0       1.0       1.0       0.0       0.0       0.0\n",
       "123         1015      0      0         0.0       1.0        0.0         0.0         0.0       1.0         0.0         0.0         1.0      0.0      0.0      0.0      1.0      0.0      0.0      0.0      0.0      0.0      0.0       0.0       0.0       1.0       1.0       0.0       0.0       0.0\n",
       "290         1182      0      0         0.0       1.0        0.0         0.0         0.0       1.0         0.0         0.0         1.0      0.0      1.0      0.0      0.0      0.0      0.0      0.0      0.0      0.0      0.0       1.0       0.0       0.0       1.0       0.0       0.0       0.0\n",
       "384         1276      0      0         0.0       1.0        0.0         0.0         0.0       1.0         0.0         0.0         1.0      0.0      0.0      0.0      1.0      0.0      0.0      0.0      0.0      0.0      0.0       0.0       1.0       0.0       1.0       0.0       0.0       0.0\n",
       "18           910      1      0         1.0       0.0        0.0         0.0         1.0       0.0         0.0         0.0         1.0      0.0      0.0      0.0      1.0      0.0      0.0      0.0      0.0      0.0      0.0       0.0       0.0       1.0       1.0       0.0       0.0       0.0\n",
       "373         1265      0      0         0.0       1.0        0.0         0.0         0.0       1.0         0.0         0.0         1.0      0.0      0.0      0.0      0.0      0.0      1.0      0.0      0.0      0.0      0.0       0.0       1.0       0.0       1.0       0.0       0.0       0.0\n",
       "369         1261      0      0         0.0       1.0        0.0         0.0         0.0       1.0         1.0         0.0         0.0      0.0      0.0      0.0      1.0      0.0      0.0      0.0      0.0      0.0      0.0       0.0       1.0       0.0       1.0       0.0       0.0       0.0\n",
       "21           913      0      1         0.0       1.0        0.0         0.0         0.0       1.0         0.0         0.0         1.0      0.0      1.0      0.0      0.0      0.0      0.0      0.0      0.0      0.0      0.0       0.0       0.0       1.0       1.0       0.0       0.0       0.0\n",
       "149         1041      1      1         0.0       0.0        0.0         1.0         0.0       1.0         0.0         0.0         1.0      0.0      0.0      0.0      1.0      0.0      0.0      0.0      0.0      0.0      0.0       0.0       1.0       0.0       1.0       0.0       0.0       0.0"
      ]
     },
     "execution_count": 23,
     "metadata": {},
     "output_type": "execute_result"
    }
   ],
   "source": [
    "cat_cols = ['Title', 'Sex', 'Embarked', 'Age', 'Pclass', 'Fare']\n",
    "oh_encoder = OneHotEncoder(handle_unknown='ignore', sparse=False)\n",
    "\n",
    "oh_cols_train = pd.DataFrame(oh_encoder.fit_transform(train_df[cat_cols]))\n",
    "oh_cols_test = pd.DataFrame(oh_encoder.transform(test_df[cat_cols]))\n",
    "\n",
    "oh_cols_train.index = train_df.index\n",
    "oh_cols_train.columns = oh_encoder.get_feature_names_out(cat_cols)\n",
    "oh_cols_test.index = test_df.index\n",
    "oh_cols_test.columns = oh_encoder.get_feature_names_out(cat_cols)\n",
    "\n",
    "num_train = train_df.drop(cat_cols, axis=1)\n",
    "num_test = test_df.drop(cat_cols, axis=1)\n",
    "\n",
    "oh_train_df = pd.concat([num_train, oh_cols_train], axis=1)\n",
    "oh_test_df = pd.concat([num_test, oh_cols_test], axis=1)\n",
    "\n",
    "# oh_train_df.sample(10)\n",
    "oh_test_df.sample(10)"
   ]
  },
  {
   "cell_type": "markdown",
   "id": "af0ecb5a",
   "metadata": {
    "papermill": {
     "duration": 0.015865,
     "end_time": "2022-07-08T15:12:09.606324",
     "exception": false,
     "start_time": "2022-07-08T15:12:09.590459",
     "status": "completed"
    },
    "tags": []
   },
   "source": [
    "# Further Analysis"
   ]
  },
  {
   "cell_type": "code",
   "execution_count": 24,
   "id": "663d83ba",
   "metadata": {
    "execution": {
     "iopub.execute_input": "2022-07-08T15:12:09.641197Z",
     "iopub.status.busy": "2022-07-08T15:12:09.640725Z",
     "iopub.status.idle": "2022-07-08T15:12:10.231609Z",
     "shell.execute_reply": "2022-07-08T15:12:10.230399Z"
    },
    "papermill": {
     "duration": 0.611894,
     "end_time": "2022-07-08T15:12:10.234386",
     "exception": false,
     "start_time": "2022-07-08T15:12:09.622492",
     "status": "completed"
    },
    "tags": []
   },
   "outputs": [
    {
     "data": {
      "text/plain": [
       "<AxesSubplot:xlabel='MI Scores'>"
      ]
     },
     "execution_count": 24,
     "metadata": {},
     "output_type": "execute_result"
    },
    {
     "data": {
      "image/png": "[encoded data removed]",
      "text/plain": [
       "<Figure size 1152x720 with 1 Axes>"
      ]
     },
     "metadata": {},
     "output_type": "display_data"
    }
   ],
   "source": [
    "mi_scores = pd.Series(mutual_info_classif(X=oh_train_df.drop('Survived', axis=1), y=oh_train_df.loc[:,'Survived'], discrete_features='auto'),\n",
    "                      name='MI Scores', index=oh_train_df.drop('Survived', axis=1).columns).sort_values(ascending=False)\n",
    "sns.barplot(x=mi_scores, y=mi_scores.index)"
   ]
  },
  {
   "cell_type": "code",
   "execution_count": 25,
   "id": "412403d0",
   "metadata": {
    "execution": {
     "iopub.execute_input": "2022-07-08T15:12:10.272054Z",
     "iopub.status.busy": "2022-07-08T15:12:10.271129Z",
     "iopub.status.idle": "2022-07-08T15:12:10.288230Z",
     "shell.execute_reply": "2022-07-08T15:12:10.286728Z"
    },
    "papermill": {
     "duration": 0.038844,
     "end_time": "2022-07-08T15:12:10.290958",
     "exception": false,
     "start_time": "2022-07-08T15:12:10.252114",
     "status": "completed"
    },
    "tags": []
   },
   "outputs": [
    {
     "name": "stdout",
     "output_type": "stream",
     "text": [
      "   FamilyOnboard  Survived\n",
      "3              4  0.724138\n",
      "2              3  0.578431\n",
      "1              2  0.552795\n",
      "6              7  0.333333\n",
      "0              1  0.303538\n",
      "4              5  0.200000\n",
      "5              6  0.136364\n",
      "7              8  0.000000\n",
      "8             11  0.000000\n"
     ]
    }
   ],
   "source": [
    "# Hmmm, maybe it's reasonable to add at least one new feature based on Parch and SibSp\n",
    "\n",
    "oh_train_df['FamilyOnboard'] = oh_train_df['Parch'] + oh_train_df['SibSp'] + 1\n",
    "oh_test_df['FamilyOnboard'] = oh_test_df['Parch'] + oh_test_df['SibSp'] + 1\n",
    "\n",
    "print(oh_train_df[['FamilyOnboard', 'Survived']].groupby(['FamilyOnboard'], as_index=False).mean().sort_values(by='Survived', ascending=False))"
   ]
  },
  {
   "cell_type": "code",
   "execution_count": 26,
   "id": "602ead12",
   "metadata": {
    "execution": {
     "iopub.execute_input": "2022-07-08T15:12:10.328543Z",
     "iopub.status.busy": "2022-07-08T15:12:10.327854Z",
     "iopub.status.idle": "2022-07-08T15:12:10.338003Z",
     "shell.execute_reply": "2022-07-08T15:12:10.336508Z"
    },
    "papermill": {
     "duration": 0.031925,
     "end_time": "2022-07-08T15:12:10.340493",
     "exception": false,
     "start_time": "2022-07-08T15:12:10.308568",
     "status": "completed"
    },
    "tags": []
   },
   "outputs": [
    {
     "name": "stdout",
     "output_type": "stream",
     "text": [
      " train_df shape: (891, 28) \n",
      " test_df shape: (418, 28)\n"
     ]
    }
   ],
   "source": [
    "# No need to keep Parch and SibSp\n",
    "oh_train_df.drop(['Parch', 'SibSp'], axis=1, inplace=True)\n",
    "oh_test_df.drop(['Parch', 'SibSp'], axis=1, inplace=True)\n",
    "\n",
    "print(' train_df shape: {} \\n test_df shape: {}'.format(oh_train_df.shape, oh_test_df.shape))"
   ]
  },
  {
   "cell_type": "code",
   "execution_count": 27,
   "id": "94edfcda",
   "metadata": {
    "execution": {
     "iopub.execute_input": "2022-07-08T15:12:10.379070Z",
     "iopub.status.busy": "2022-07-08T15:12:10.378620Z",
     "iopub.status.idle": "2022-07-08T15:12:10.974671Z",
     "shell.execute_reply": "2022-07-08T15:12:10.973354Z"
    },
    "papermill": {
     "duration": 0.619423,
     "end_time": "2022-07-08T15:12:10.977947",
     "exception": false,
     "start_time": "2022-07-08T15:12:10.358524",
     "status": "completed"
    },
    "tags": []
   },
   "outputs": [
    {
     "data": {
      "text/plain": [
       "<AxesSubplot:xlabel='MI Scores'>"
      ]
     },
     "execution_count": 27,
     "metadata": {},
     "output_type": "execute_result"
    },
    {
     "data": {
      "image/png": "[encoded data removed]",
      "text/plain": [
       "<Figure size 1152x720 with 1 Axes>"
      ]
     },
     "metadata": {},
     "output_type": "display_data"
    }
   ],
   "source": [
    "mi_scores = pd.Series(mutual_info_classif(X=oh_train_df.drop('Survived', axis=1), y=oh_train_df.loc[:,'Survived'], discrete_features='auto'),\n",
    "                      name='MI Scores', index=oh_train_df.drop('Survived', axis=1).columns).sort_values(ascending=False)\n",
    "sns.barplot(x=mi_scores, y=mi_scores.index)"
   ]
  },
  {
   "cell_type": "markdown",
   "id": "8c0f8a9d",
   "metadata": {
    "papermill": {
     "duration": 0.019569,
     "end_time": "2022-07-08T15:12:11.016938",
     "exception": false,
     "start_time": "2022-07-08T15:12:10.997369",
     "status": "completed"
    },
    "tags": []
   },
   "source": [
    "# Evaluating Different Models"
   ]
  },
  {
   "cell_type": "code",
   "execution_count": 28,
   "id": "274f042a",
   "metadata": {
    "execution": {
     "iopub.execute_input": "2022-07-08T15:12:11.056196Z",
     "iopub.status.busy": "2022-07-08T15:12:11.055810Z",
     "iopub.status.idle": "2022-07-08T15:12:11.064420Z",
     "shell.execute_reply": "2022-07-08T15:12:11.063171Z"
    },
    "papermill": {
     "duration": 0.031796,
     "end_time": "2022-07-08T15:12:11.066916",
     "exception": false,
     "start_time": "2022-07-08T15:12:11.035120",
     "status": "completed"
    },
    "tags": []
   },
   "outputs": [],
   "source": [
    "X = oh_train_df.drop('Survived', axis=1)\n",
    "y = oh_train_df.loc[:,'Survived']\n",
    "\n",
    "X_test = oh_test_df.drop('PassengerId', axis=1)"
   ]
  },
  {
   "cell_type": "code",
   "execution_count": 29,
   "id": "7a70e616",
   "metadata": {
    "execution": {
     "iopub.execute_input": "2022-07-08T15:12:11.106382Z",
     "iopub.status.busy": "2022-07-08T15:12:11.105911Z",
     "iopub.status.idle": "2022-07-08T15:12:13.541957Z",
     "shell.execute_reply": "2022-07-08T15:12:13.540240Z"
    },
    "papermill": {
     "duration": 2.458813,
     "end_time": "2022-07-08T15:12:13.544406",
     "exception": false,
     "start_time": "2022-07-08T15:12:11.085593",
     "status": "completed"
    },
    "tags": []
   },
   "outputs": [
    {
     "name": "stdout",
     "output_type": "stream",
     "text": [
      "Logistic Regression Model Trained!\n",
      "Stochastic Gradient Descent Model Trained!\n",
      "Perceptron Model Trained!\n",
      "SVM Model Trained!\n"
     ]
    },
    {
     "name": "stderr",
     "output_type": "stream",
     "text": [
      "/opt/conda/lib/python3.7/site-packages/sklearn/svm/_base.py:1208: ConvergenceWarning: Liblinear failed to converge, increase the number of iterations.\n",
      "  ConvergenceWarning,\n"
     ]
    },
    {
     "name": "stdout",
     "output_type": "stream",
     "text": [
      "Linear SVM Model Trained!\n",
      "Random Forest Model Trained!\n",
      "Adaboost Model Trained!\n",
      "Gradient Boosting Model Trained!\n",
      "KNN Model Trained!\n",
      "Bernoulli NB Model Trained!\n",
      "Complement NB Model Trained!\n",
      "Gaussian NB Model Trained!\n",
      "Categorical NB Model Trained!\n",
      "Multinomial NB Model Trained!\n",
      "Decision Tree Model Trained!\n",
      "XGBoost Model Trained!\n"
     ]
    },
    {
     "data": {
      "text/html": [
       "<div>\n",
       "<style scoped>\n",
       "    .dataframe tbody tr th:only-of-type {\n",
       "        vertical-align: middle;\n",
       "    }\n",
       "\n",
       "    .dataframe tbody tr th {\n",
       "        vertical-align: top;\n",
       "    }\n",
       "\n",
       "    .dataframe thead th {\n",
       "        text-align: right;\n",
       "    }\n",
       "</style>\n",
       "<table border=\"1\" class=\"dataframe\">\n",
       "  <thead>\n",
       "    <tr style=\"text-align: right;\">\n",
       "      <th></th>\n",
       "      <th>Model</th>\n",
       "      <th>Precision</th>\n",
       "      <th>Recall</th>\n",
       "      <th>F1</th>\n",
       "    </tr>\n",
       "  </thead>\n",
       "  <tbody>\n",
       "    <tr>\n",
       "      <th>0</th>\n",
       "      <td>Logistic Regression</td>\n",
       "      <td>0.792570</td>\n",
       "      <td>0.748538</td>\n",
       "      <td>0.769925</td>\n",
       "    </tr>\n",
       "    <tr>\n",
       "      <th>1</th>\n",
       "      <td>Stochastic Gradient Descent</td>\n",
       "      <td>0.849558</td>\n",
       "      <td>0.561404</td>\n",
       "      <td>0.676056</td>\n",
       "    </tr>\n",
       "    <tr>\n",
       "      <th>2</th>\n",
       "      <td>Perceptron</td>\n",
       "      <td>0.774691</td>\n",
       "      <td>0.733918</td>\n",
       "      <td>0.753754</td>\n",
       "    </tr>\n",
       "    <tr>\n",
       "      <th>3</th>\n",
       "      <td>SVM</td>\n",
       "      <td>0.817276</td>\n",
       "      <td>0.719298</td>\n",
       "      <td>0.765163</td>\n",
       "    </tr>\n",
       "    <tr>\n",
       "      <th>4</th>\n",
       "      <td>Linear SVM</td>\n",
       "      <td>0.801282</td>\n",
       "      <td>0.730994</td>\n",
       "      <td>0.764526</td>\n",
       "    </tr>\n",
       "    <tr>\n",
       "      <th>5</th>\n",
       "      <td>Random Forest</td>\n",
       "      <td>0.898649</td>\n",
       "      <td>0.777778</td>\n",
       "      <td>0.833856</td>\n",
       "    </tr>\n",
       "    <tr>\n",
       "      <th>6</th>\n",
       "      <td>Adaboost</td>\n",
       "      <td>0.780120</td>\n",
       "      <td>0.757310</td>\n",
       "      <td>0.768546</td>\n",
       "    </tr>\n",
       "    <tr>\n",
       "      <th>7</th>\n",
       "      <td>Gradient Boosting</td>\n",
       "      <td>0.875445</td>\n",
       "      <td>0.719298</td>\n",
       "      <td>0.789727</td>\n",
       "    </tr>\n",
       "    <tr>\n",
       "      <th>8</th>\n",
       "      <td>KNN</td>\n",
       "      <td>0.841751</td>\n",
       "      <td>0.730994</td>\n",
       "      <td>0.782473</td>\n",
       "    </tr>\n",
       "    <tr>\n",
       "      <th>9</th>\n",
       "      <td>Bernoulli NB</td>\n",
       "      <td>0.733945</td>\n",
       "      <td>0.701754</td>\n",
       "      <td>0.717489</td>\n",
       "    </tr>\n",
       "    <tr>\n",
       "      <th>10</th>\n",
       "      <td>Complement NB</td>\n",
       "      <td>0.725373</td>\n",
       "      <td>0.710526</td>\n",
       "      <td>0.717873</td>\n",
       "    </tr>\n",
       "    <tr>\n",
       "      <th>11</th>\n",
       "      <td>Gaussian NB</td>\n",
       "      <td>0.742690</td>\n",
       "      <td>0.742690</td>\n",
       "      <td>0.742690</td>\n",
       "    </tr>\n",
       "    <tr>\n",
       "      <th>12</th>\n",
       "      <td>Categorical NB</td>\n",
       "      <td>0.729483</td>\n",
       "      <td>0.701754</td>\n",
       "      <td>0.715350</td>\n",
       "    </tr>\n",
       "    <tr>\n",
       "      <th>13</th>\n",
       "      <td>Multinomial NB</td>\n",
       "      <td>0.733129</td>\n",
       "      <td>0.698830</td>\n",
       "      <td>0.715569</td>\n",
       "    </tr>\n",
       "    <tr>\n",
       "      <th>14</th>\n",
       "      <td>Decision Tree</td>\n",
       "      <td>0.927536</td>\n",
       "      <td>0.748538</td>\n",
       "      <td>0.828479</td>\n",
       "    </tr>\n",
       "    <tr>\n",
       "      <th>15</th>\n",
       "      <td>XGBoost</td>\n",
       "      <td>0.896194</td>\n",
       "      <td>0.757310</td>\n",
       "      <td>0.820919</td>\n",
       "    </tr>\n",
       "  </tbody>\n",
       "</table>\n",
       "</div>"
      ],
      "text/plain": [
       "                          Model  Precision    Recall        F1\n",
       "0           Logistic Regression   0.792570  0.748538  0.769925\n",
       "1   Stochastic Gradient Descent   0.849558  0.561404  0.676056\n",
       "2                    Perceptron   0.774691  0.733918  0.753754\n",
       "3                           SVM   0.817276  0.719298  0.765163\n",
       "4                    Linear SVM   0.801282  0.730994  0.764526\n",
       "5                 Random Forest   0.898649  0.777778  0.833856\n",
       "6                      Adaboost   0.780120  0.757310  0.768546\n",
       "7             Gradient Boosting   0.875445  0.719298  0.789727\n",
       "8                           KNN   0.841751  0.730994  0.782473\n",
       "9                  Bernoulli NB   0.733945  0.701754  0.717489\n",
       "10                Complement NB   0.725373  0.710526  0.717873\n",
       "11                  Gaussian NB   0.742690  0.742690  0.742690\n",
       "12               Categorical NB   0.729483  0.701754  0.715350\n",
       "13               Multinomial NB   0.733129  0.698830  0.715569\n",
       "14                Decision Tree   0.927536  0.748538  0.828479\n",
       "15                      XGBoost   0.896194  0.757310  0.820919"
      ]
     },
     "execution_count": 29,
     "metadata": {},
     "output_type": "execute_result"
    }
   ],
   "source": [
    "Models = [LogisticRegression, SGDClassifier, Perceptron, SVC, LinearSVC, RandomForestClassifier, AdaBoostClassifier, GradientBoostingClassifier,\n",
    "          KNeighborsClassifier, BernoulliNB, ComplementNB, GaussianNB, CategoricalNB, MultinomialNB, DecisionTreeClassifier, XGBClassifier]\n",
    "\n",
    "model_names = ['Logistic Regression', 'Stochastic Gradient Descent', 'Perceptron', 'SVM', 'Linear SVM', 'Random Forest', 'Adaboost', 'Gradient Boosting', 'KNN',\n",
    "               'Bernoulli NB', 'Complement NB', 'Gaussian NB', 'Categorical NB', 'Multinomial NB', 'Decision Tree', 'XGBoost']\n",
    "\n",
    "scores = pd.DataFrame({'Model': [], 'Precision': [], 'Recall': [], 'F1': []})\n",
    "\n",
    "i = 0\n",
    "for Model in Models:\n",
    "    model = Model()\n",
    "    model.fit(X, y)\n",
    "    y_pred = model.predict(X)\n",
    "    precision = precision_score(y, y_pred)\n",
    "    recall = recall_score(y, y_pred)\n",
    "    f1 = f1_score(y, y_pred)\n",
    "    scores = scores.append({'Model': model_names[i], 'Precision': precision, 'Recall': recall, 'F1': f1}, ignore_index=True)\n",
    "    print('{} Model Trained!'.format(model_names[i]))\n",
    "    i += 1\n",
    "\n",
    "scores"
   ]
  },
  {
   "cell_type": "code",
   "execution_count": 30,
   "id": "6438b80d",
   "metadata": {
    "execution": {
     "iopub.execute_input": "2022-07-08T15:12:13.587300Z",
     "iopub.status.busy": "2022-07-08T15:12:13.586156Z",
     "iopub.status.idle": "2022-07-08T15:12:14.421623Z",
     "shell.execute_reply": "2022-07-08T15:12:14.420133Z"
    },
    "papermill": {
     "duration": 0.861749,
     "end_time": "2022-07-08T15:12:14.424990",
     "exception": false,
     "start_time": "2022-07-08T15:12:13.563241",
     "status": "completed"
    },
    "tags": []
   },
   "outputs": [
    {
     "data": {
      "text/plain": [
       "(array([ 0,  1,  2,  3,  4,  5,  6,  7,  8,  9, 10, 11, 12, 13, 14, 15]),\n",
       " [Text(0, 0, 'Logistic Regression'),\n",
       "  Text(1, 0, 'Stochastic Gradient Descent'),\n",
       "  Text(2, 0, 'Perceptron'),\n",
       "  Text(3, 0, 'SVM'),\n",
       "  Text(4, 0, 'Linear SVM'),\n",
       "  Text(5, 0, 'Random Forest'),\n",
       "  Text(6, 0, 'Adaboost'),\n",
       "  Text(7, 0, 'Gradient Boosting'),\n",
       "  Text(8, 0, 'KNN'),\n",
       "  Text(9, 0, 'Bernoulli NB'),\n",
       "  Text(10, 0, 'Complement NB'),\n",
       "  Text(11, 0, 'Gaussian NB'),\n",
       "  Text(12, 0, 'Categorical NB'),\n",
       "  Text(13, 0, 'Multinomial NB'),\n",
       "  Text(14, 0, 'Decision Tree'),\n",
       "  Text(15, 0, 'XGBoost')])"
      ]
     },
     "execution_count": 30,
     "metadata": {},
     "output_type": "execute_result"
    },
    {
     "data": {
      "image/png": "[encoded data removed]",
      "text/plain": [
       "<Figure size 521.1x432 with 1 Axes>"
      ]
     },
     "metadata": {},
     "output_type": "display_data"
    }
   ],
   "source": [
    "ax = sns.catplot(x='Model', y='vals', hue='Metrics', data=scores.melt('Model', var_name='Metrics', value_name='vals'), kind='point', height=6)\n",
    "plt.xticks(rotation=90)"
   ]
  },
  {
   "cell_type": "markdown",
   "id": "a98b2bc6",
   "metadata": {
    "papermill": {
     "duration": 0.021724,
     "end_time": "2022-07-08T15:12:14.469949",
     "exception": false,
     "start_time": "2022-07-08T15:12:14.448225",
     "status": "completed"
    },
    "tags": []
   },
   "source": [
    "# Submission"
   ]
  },
  {
   "cell_type": "code",
   "execution_count": 31,
   "id": "0226f590",
   "metadata": {
    "execution": {
     "iopub.execute_input": "2022-07-08T15:12:14.515639Z",
     "iopub.status.busy": "2022-07-08T15:12:14.515041Z",
     "iopub.status.idle": "2022-07-08T15:12:14.761400Z",
     "shell.execute_reply": "2022-07-08T15:12:14.760472Z"
    },
    "papermill": {
     "duration": 0.27141,
     "end_time": "2022-07-08T15:12:14.763765",
     "exception": false,
     "start_time": "2022-07-08T15:12:14.492355",
     "status": "completed"
    },
    "tags": []
   },
   "outputs": [
    {
     "name": "stdout",
     "output_type": "stream",
     "text": [
      "Done!\n"
     ]
    }
   ],
   "source": [
    "rf_model = RandomForestClassifier()\n",
    "rf_model.fit(X, y)\n",
    "y_pred = rf_model.predict(X_test)\n",
    "\n",
    "output = pd.DataFrame({\n",
    "        \"PassengerId\": oh_test_df[\"PassengerId\"],\n",
    "        \"Survived\": y_pred\n",
    "    })\n",
    "output.to_csv('submission.csv', index=False)\n",
    "print('Done!')"
   ]
  }
 ],
 "metadata": {
  "kernelspec": {
   "display_name": "Python 3",
   "language": "python",
   "name": "python3"
  },
  "language_info": {
   "codemirror_mode": {
    "name": "ipython",
    "version": 3
   },
   "file_extension": ".py",
   "mimetype": "text/x-python",
   "name": "python",
   "nbconvert_exporter": "python",
   "pygments_lexer": "ipython3",
   "version": "3.7.12"
  },
  "papermill": {
   "default_parameters": {},
   "duration": 26.624464,
   "end_time": "2022-07-08T15:12:15.708538",
   "environment_variables": {},
   "exception": null,
   "input_path": "__notebook__.ipynb",
   "output_path": "__notebook__.ipynb",
   "parameters": {},
   "start_time": "2022-07-08T15:11:49.084074",
   "version": "2.3.4"
  }
 },
 "nbformat": 4,
 "nbformat_minor": 5
}
